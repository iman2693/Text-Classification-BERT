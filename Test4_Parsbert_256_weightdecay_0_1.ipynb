{
  "cells": [
    {
      "cell_type": "code",
      "execution_count": null,
      "metadata": {
        "colab": {
          "base_uri": "https://localhost:8080/"
        },
        "id": "9Y9X13zkotWE",
        "outputId": "76fb9402-7d4f-4ab2-ea76-65232feb5d5e"
      },
      "outputs": [
        {
          "output_type": "stream",
          "name": "stdout",
          "text": [
            "Mounted at /content/gdrive\n"
          ]
        }
      ],
      "source": [
        "from google.colab import drive\n",
        "drive.mount('/content/gdrive')"
      ]
    },
    {
      "cell_type": "markdown",
      "metadata": {
        "id": "weISdAvopLQI"
      },
      "source": [
        "-----------------------"
      ]
    },
    {
      "cell_type": "markdown",
      "metadata": {
        "id": "wbQ7SoGPpFtg"
      },
      "source": [
        "***Install Requirement Packages***"
      ]
    },
    {
      "cell_type": "code",
      "execution_count": null,
      "metadata": {
        "id": "i9T6BTnGoxan",
        "colab": {
          "base_uri": "https://localhost:8080/"
        },
        "outputId": "b37c349b-fc70-4e38-ad78-3e4e0c89c3bb"
      },
      "outputs": [
        {
          "output_type": "stream",
          "name": "stdout",
          "text": [
            "\u001b[K     |████████████████████████████████| 4.7 MB 37.1 MB/s \n",
            "\u001b[K     |████████████████████████████████| 101 kB 7.4 MB/s \n",
            "\u001b[K     |████████████████████████████████| 596 kB 68.6 MB/s \n",
            "\u001b[K     |████████████████████████████████| 6.6 MB 61.6 MB/s \n",
            "\u001b[K     |████████████████████████████████| 316 kB 36.7 MB/s \n",
            "\u001b[K     |████████████████████████████████| 1.4 MB 42.3 MB/s \n",
            "\u001b[K     |████████████████████████████████| 233 kB 19.9 MB/s \n",
            "\u001b[?25h  Building wheel for nltk (setup.py) ... \u001b[?25l\u001b[?25hdone\n",
            "  Building wheel for libwapiti (setup.py) ... \u001b[?25l\u001b[?25hdone\n",
            "\u001b[K     |████████████████████████████████| 810 kB 39.6 MB/s \n",
            "\u001b[?25h  Building wheel for PersianStemmer (setup.py) ... \u001b[?25l\u001b[?25hdone\n",
            "  Building wheel for patricia-trie (setup.py) ... \u001b[?25l\u001b[?25hdone\n",
            "  Building wheel for loading (setup.py) ... \u001b[?25l\u001b[?25hdone\n"
          ]
        }
      ],
      "source": [
        "!pip install -q transformers\n",
        "!pip install -q hazm\n",
        "!pip install -q PersianStemmer\n",
        "!pip install -q loading\n",
        "# !pip install -U catalyst transformers > /dev/null\n",
        "# !pip install -q catalyst"
      ]
    },
    {
      "cell_type": "markdown",
      "metadata": {
        "id": "4I8nb2rLpMwx"
      },
      "source": [
        "--------------------------"
      ]
    },
    {
      "cell_type": "markdown",
      "metadata": {
        "id": "wNAe39xBpP2x"
      },
      "source": [
        "***Import libraries***"
      ]
    },
    {
      "cell_type": "code",
      "execution_count": null,
      "metadata": {
        "id": "58xpbqtYpNhb"
      },
      "outputs": [],
      "source": [
        "import pandas as pd\n",
        "import numpy as np\n",
        "import random\n",
        "\n",
        "from sklearn.preprocessing import LabelEncoder\n",
        "from sklearn.model_selection import train_test_split\n",
        "from sklearn.metrics import confusion_matrix, ConfusionMatrixDisplay\n",
        "from sklearn.metrics import classification_report\n",
        "from sklearn.metrics import f1_score\n",
        "from sklearn.utils import shuffle\n",
        "from sklearn.metrics import precision_recall_fscore_support\n",
        "\n",
        "from hazm import *\n",
        "\n",
        "import matplotlib.pyplot as plt\n",
        "\n",
        "import os\n",
        "\n",
        "from tqdm.notebook import tqdm\n",
        "\n",
        "from PersianStemmer import PersianStemmer\n",
        "\n",
        "from transformers import AutoTokenizer, AutoModelForMaskedLM, AutoConfig, AutoModel, BertConfig, BertTokenizer, BertModel, AdamW, get_linear_schedule_with_warmup\n",
        "\n",
        "import torch\n",
        "import torch.nn as nn\n",
        "import torch.nn.functional as F\n",
        "from torch.utils.data import DataLoader, Dataset\n",
        "\n",
        "from transformers.file_utils import is_tf_available, is_torch_available, is_torch_tpu_available\n",
        "from transformers import BertTokenizerFast, BertForSequenceClassification\n",
        "from transformers import Trainer, TrainingArguments\n",
        "\n",
        "from typing import List, Mapping, Tuple\n",
        "import loading\n",
        "import collections\n"
      ]
    },
    {
      "cell_type": "markdown",
      "metadata": {
        "id": "szwwA0VvpXDH"
      },
      "source": [
        "-------------------------------------"
      ]
    },
    {
      "cell_type": "code",
      "execution_count": null,
      "metadata": {
        "id": "siIu2V2iq3-K"
      },
      "outputs": [],
      "source": [
        "def set_seed(seed: int):\n",
        "    \"\"\"\n",
        "    Helper function for reproducible behavior to set the seed in ``random``, ``numpy``, ``torch`` and/or ``tf`` (if\n",
        "    installed).\n",
        "\n",
        "    Args:\n",
        "        seed (:obj:`int`): The seed to set.\n",
        "    \"\"\"\n",
        "    random.seed(seed)\n",
        "    np.random.seed(seed)\n",
        "    if is_torch_available():\n",
        "        torch.manual_seed(seed)\n",
        "        torch.cuda.manual_seed_all(seed)\n",
        "        # ^^ safe to call this function even if cuda is not available\n",
        "    if is_tf_available():\n",
        "        import tensorflow as tf\n",
        "\n",
        "        tf.random.set_seed(seed)\n",
        "\n",
        "set_seed(0)"
      ]
    },
    {
      "cell_type": "markdown",
      "metadata": {
        "id": "Q3BOymN-pZbO"
      },
      "source": [
        "***Load and Preprocessing Data***"
      ]
    },
    {
      "cell_type": "code",
      "execution_count": null,
      "metadata": {
        "id": "ojemUDZ0pcjE"
      },
      "outputs": [],
      "source": [
        "file_open = open('/content/gdrive/MyDrive/NLP - HW5/persica.csv')\n",
        "file = file_open.readlines()\n",
        "file_open.close()\n",
        "for i in range(len(file)):\n",
        "    file[i] =  file[i].replace('\\n','')\n",
        "    file[i] =  file[i].replace(',','')"
      ]
    },
    {
      "cell_type": "code",
      "execution_count": null,
      "metadata": {
        "id": "Ab7w8EyZpgq9"
      },
      "outputs": [],
      "source": [
        "category = []\n",
        "news_subcategory = []\n",
        "news_title = []\n",
        "news_text = []\n",
        "news_id = []\n",
        "for i in range(0,len(file),7):\n",
        "    news_id.append(file[i].replace('\\ufeff',''))\n",
        "    news_title.append(file[i+1])\n",
        "    news_text.append(file[i+2])\n",
        "    news_subcategory.append(file[i+5][:-1])\n",
        "    category.append(file[i+6])"
      ]
    },
    {
      "cell_type": "code",
      "execution_count": null,
      "metadata": {
        "colab": {
          "base_uri": "https://localhost:8080/"
        },
        "id": "uIoAujTXpm7t",
        "outputId": "a104511b-02ea-464c-db88-6755f1b723ee"
      },
      "outputs": [
        {
          "output_type": "stream",
          "name": "stdout",
          "text": [
            "Count of news in subject اقتصادي = 1000\n",
            "Count of news in subject فرهنگي = 1000\n",
            "Count of news in subject علمي = 1000\n",
            "Count of news in subject سياسي = 1000\n",
            "Count of news in subject فقه و حقوق = 1000\n",
            "Count of news in subject ورزشي = 1000\n",
            "Count of news in subject اجتماعي = 1000\n",
            "Count of news in subject مذهبي = 1000\n",
            "Count of news in subject آموزشي = 1000\n",
            "Count of news in subject تاريخي = 999\n",
            "Count of news in subject بهداشتي = 1000\n"
          ]
        }
      ],
      "source": [
        "for subject in set(category):\n",
        "    print(f'Count of news in subject {subject} = {list.count(category,subject)}')"
      ]
    },
    {
      "cell_type": "code",
      "execution_count": null,
      "metadata": {
        "colab": {
          "base_uri": "https://localhost:8080/",
          "height": 206
        },
        "id": "fxucizLWpn_M",
        "outputId": "ddedc903-d7ba-41ea-b551-922462932d68"
      },
      "outputs": [
        {
          "output_type": "execute_result",
          "data": {
            "text/plain": [
              "  news_id                                         news_title  \\\n",
              "0  843656  وزير علوم درجمع استادان نمونه: سن بازنشستگي اس...   \n",
              "1  837144  گردهمايي دانش‌آموختگان موسسه آموزش عالي سوره ب...   \n",
              "2  436862  نتايج آزمون دوره‌هاي فراگير دانشگاه پيام‌نور ا...   \n",
              "3  227781  همايش يكروزه آسيب شناسي مفهوم روابط عمومي در ب...   \n",
              "4  174187  وضعيت اقتصادي و ميزان تحصيلات والدين از مهمتري...   \n",
              "\n",
              "                                           news_text news_subcategory  \\\n",
              "0  وزير علوم در جمع استادان نمونه كشور گفت: از اس...           آموزشي   \n",
              "1  به گزارش سرويس صنفي آموزشي خبرگزاري دانشجويان ...           آموزشي   \n",
              "2  نتايج آزمون دوره‌هاي فراگير مقاطع كارشناسي و ك...           آموزشي   \n",
              "3                                                     اجتماعي-خانواده   \n",
              "4  محمدتقي علوي يزدي، مجري اين طرح پژوهشي در اين‌...           آموزشي   \n",
              "\n",
              "  news_category  \n",
              "0        آموزشي  \n",
              "1        آموزشي  \n",
              "2        آموزشي  \n",
              "3       اجتماعي  \n",
              "4        آموزشي  "
            ],
            "text/html": [
              "\n",
              "  <div id=\"df-9a66fe4c-9d17-467b-9068-11d90b73ad7d\">\n",
              "    <div class=\"colab-df-container\">\n",
              "      <div>\n",
              "<style scoped>\n",
              "    .dataframe tbody tr th:only-of-type {\n",
              "        vertical-align: middle;\n",
              "    }\n",
              "\n",
              "    .dataframe tbody tr th {\n",
              "        vertical-align: top;\n",
              "    }\n",
              "\n",
              "    .dataframe thead th {\n",
              "        text-align: right;\n",
              "    }\n",
              "</style>\n",
              "<table border=\"1\" class=\"dataframe\">\n",
              "  <thead>\n",
              "    <tr style=\"text-align: right;\">\n",
              "      <th></th>\n",
              "      <th>news_id</th>\n",
              "      <th>news_title</th>\n",
              "      <th>news_text</th>\n",
              "      <th>news_subcategory</th>\n",
              "      <th>news_category</th>\n",
              "    </tr>\n",
              "  </thead>\n",
              "  <tbody>\n",
              "    <tr>\n",
              "      <th>0</th>\n",
              "      <td>843656</td>\n",
              "      <td>وزير علوم درجمع استادان نمونه: سن بازنشستگي اس...</td>\n",
              "      <td>وزير علوم در جمع استادان نمونه كشور گفت: از اس...</td>\n",
              "      <td>آموزشي</td>\n",
              "      <td>آموزشي</td>\n",
              "    </tr>\n",
              "    <tr>\n",
              "      <th>1</th>\n",
              "      <td>837144</td>\n",
              "      <td>گردهمايي دانش‌آموختگان موسسه آموزش عالي سوره ب...</td>\n",
              "      <td>به گزارش سرويس صنفي آموزشي خبرگزاري دانشجويان ...</td>\n",
              "      <td>آموزشي</td>\n",
              "      <td>آموزشي</td>\n",
              "    </tr>\n",
              "    <tr>\n",
              "      <th>2</th>\n",
              "      <td>436862</td>\n",
              "      <td>نتايج آزمون دوره‌هاي فراگير دانشگاه پيام‌نور ا...</td>\n",
              "      <td>نتايج آزمون دوره‌هاي فراگير مقاطع كارشناسي و ك...</td>\n",
              "      <td>آموزشي</td>\n",
              "      <td>آموزشي</td>\n",
              "    </tr>\n",
              "    <tr>\n",
              "      <th>3</th>\n",
              "      <td>227781</td>\n",
              "      <td>همايش يكروزه آسيب شناسي مفهوم روابط عمومي در ب...</td>\n",
              "      <td></td>\n",
              "      <td>اجتماعي-خانواده</td>\n",
              "      <td>اجتماعي</td>\n",
              "    </tr>\n",
              "    <tr>\n",
              "      <th>4</th>\n",
              "      <td>174187</td>\n",
              "      <td>وضعيت اقتصادي و ميزان تحصيلات والدين از مهمتري...</td>\n",
              "      <td>محمدتقي علوي يزدي، مجري اين طرح پژوهشي در اين‌...</td>\n",
              "      <td>آموزشي</td>\n",
              "      <td>آموزشي</td>\n",
              "    </tr>\n",
              "  </tbody>\n",
              "</table>\n",
              "</div>\n",
              "      <button class=\"colab-df-convert\" onclick=\"convertToInteractive('df-9a66fe4c-9d17-467b-9068-11d90b73ad7d')\"\n",
              "              title=\"Convert this dataframe to an interactive table.\"\n",
              "              style=\"display:none;\">\n",
              "        \n",
              "  <svg xmlns=\"http://www.w3.org/2000/svg\" height=\"24px\"viewBox=\"0 0 24 24\"\n",
              "       width=\"24px\">\n",
              "    <path d=\"M0 0h24v24H0V0z\" fill=\"none\"/>\n",
              "    <path d=\"M18.56 5.44l.94 2.06.94-2.06 2.06-.94-2.06-.94-.94-2.06-.94 2.06-2.06.94zm-11 1L8.5 8.5l.94-2.06 2.06-.94-2.06-.94L8.5 2.5l-.94 2.06-2.06.94zm10 10l.94 2.06.94-2.06 2.06-.94-2.06-.94-.94-2.06-.94 2.06-2.06.94z\"/><path d=\"M17.41 7.96l-1.37-1.37c-.4-.4-.92-.59-1.43-.59-.52 0-1.04.2-1.43.59L10.3 9.45l-7.72 7.72c-.78.78-.78 2.05 0 2.83L4 21.41c.39.39.9.59 1.41.59.51 0 1.02-.2 1.41-.59l7.78-7.78 2.81-2.81c.8-.78.8-2.07 0-2.86zM5.41 20L4 18.59l7.72-7.72 1.47 1.35L5.41 20z\"/>\n",
              "  </svg>\n",
              "      </button>\n",
              "      \n",
              "  <style>\n",
              "    .colab-df-container {\n",
              "      display:flex;\n",
              "      flex-wrap:wrap;\n",
              "      gap: 12px;\n",
              "    }\n",
              "\n",
              "    .colab-df-convert {\n",
              "      background-color: #E8F0FE;\n",
              "      border: none;\n",
              "      border-radius: 50%;\n",
              "      cursor: pointer;\n",
              "      display: none;\n",
              "      fill: #1967D2;\n",
              "      height: 32px;\n",
              "      padding: 0 0 0 0;\n",
              "      width: 32px;\n",
              "    }\n",
              "\n",
              "    .colab-df-convert:hover {\n",
              "      background-color: #E2EBFA;\n",
              "      box-shadow: 0px 1px 2px rgba(60, 64, 67, 0.3), 0px 1px 3px 1px rgba(60, 64, 67, 0.15);\n",
              "      fill: #174EA6;\n",
              "    }\n",
              "\n",
              "    [theme=dark] .colab-df-convert {\n",
              "      background-color: #3B4455;\n",
              "      fill: #D2E3FC;\n",
              "    }\n",
              "\n",
              "    [theme=dark] .colab-df-convert:hover {\n",
              "      background-color: #434B5C;\n",
              "      box-shadow: 0px 1px 3px 1px rgba(0, 0, 0, 0.15);\n",
              "      filter: drop-shadow(0px 1px 2px rgba(0, 0, 0, 0.3));\n",
              "      fill: #FFFFFF;\n",
              "    }\n",
              "  </style>\n",
              "\n",
              "      <script>\n",
              "        const buttonEl =\n",
              "          document.querySelector('#df-9a66fe4c-9d17-467b-9068-11d90b73ad7d button.colab-df-convert');\n",
              "        buttonEl.style.display =\n",
              "          google.colab.kernel.accessAllowed ? 'block' : 'none';\n",
              "\n",
              "        async function convertToInteractive(key) {\n",
              "          const element = document.querySelector('#df-9a66fe4c-9d17-467b-9068-11d90b73ad7d');\n",
              "          const dataTable =\n",
              "            await google.colab.kernel.invokeFunction('convertToInteractive',\n",
              "                                                     [key], {});\n",
              "          if (!dataTable) return;\n",
              "\n",
              "          const docLinkHtml = 'Like what you see? Visit the ' +\n",
              "            '<a target=\"_blank\" href=https://colab.research.google.com/notebooks/data_table.ipynb>data table notebook</a>'\n",
              "            + ' to learn more about interactive tables.';\n",
              "          element.innerHTML = '';\n",
              "          dataTable['output_type'] = 'display_data';\n",
              "          await google.colab.output.renderOutput(dataTable, element);\n",
              "          const docLink = document.createElement('div');\n",
              "          docLink.innerHTML = docLinkHtml;\n",
              "          element.appendChild(docLink);\n",
              "        }\n",
              "      </script>\n",
              "    </div>\n",
              "  </div>\n",
              "  "
            ]
          },
          "metadata": {},
          "execution_count": 8
        }
      ],
      "source": [
        "d = {'news_id': news_id, 'news_title': news_title, 'news_text': news_text, 'news_subcategory': news_subcategory , 'news_category': category}\n",
        "df = pd.DataFrame(data=d)\n",
        "df.head()"
      ]
    },
    {
      "cell_type": "code",
      "execution_count": null,
      "metadata": {
        "colab": {
          "base_uri": "https://localhost:8080/",
          "height": 206
        },
        "id": "1QLRpd6LpqEM",
        "outputId": "f783605f-fec9-4c66-a2be-a5632cc15ac8"
      },
      "outputs": [
        {
          "output_type": "execute_result",
          "data": {
            "text/plain": [
              "  news_id                                         news_title  \\\n",
              "0  843656  وزير علوم درجمع استادان نمونه: سن بازنشستگي اس...   \n",
              "1  837144  گردهمايي دانش‌آموختگان موسسه آموزش عالي سوره ب...   \n",
              "2  436862  نتايج آزمون دوره‌هاي فراگير دانشگاه پيام‌نور ا...   \n",
              "3  227781  همايش يكروزه آسيب شناسي مفهوم روابط عمومي در ب...   \n",
              "4  174187  وضعيت اقتصادي و ميزان تحصيلات والدين از مهمتري...   \n",
              "\n",
              "                                           news_text news_subcategory  \\\n",
              "0  وزير علوم در جمع استادان نمونه كشور گفت: از اس...           آموزشي   \n",
              "1  به گزارش سرويس صنفي آموزشي خبرگزاري دانشجويان ...           آموزشي   \n",
              "2  نتايج آزمون دوره‌هاي فراگير مقاطع كارشناسي و ك...           آموزشي   \n",
              "3                                                     اجتماعي-خانواده   \n",
              "4  محمدتقي علوي يزدي، مجري اين طرح پژوهشي در اين‌...           آموزشي   \n",
              "\n",
              "  news_category  category  \n",
              "0        آموزشي         0  \n",
              "1        آموزشي         0  \n",
              "2        آموزشي         0  \n",
              "3       اجتماعي         1  \n",
              "4        آموزشي         0  "
            ],
            "text/html": [
              "\n",
              "  <div id=\"df-4e07f1dd-a463-41dc-8617-0153d993b62e\">\n",
              "    <div class=\"colab-df-container\">\n",
              "      <div>\n",
              "<style scoped>\n",
              "    .dataframe tbody tr th:only-of-type {\n",
              "        vertical-align: middle;\n",
              "    }\n",
              "\n",
              "    .dataframe tbody tr th {\n",
              "        vertical-align: top;\n",
              "    }\n",
              "\n",
              "    .dataframe thead th {\n",
              "        text-align: right;\n",
              "    }\n",
              "</style>\n",
              "<table border=\"1\" class=\"dataframe\">\n",
              "  <thead>\n",
              "    <tr style=\"text-align: right;\">\n",
              "      <th></th>\n",
              "      <th>news_id</th>\n",
              "      <th>news_title</th>\n",
              "      <th>news_text</th>\n",
              "      <th>news_subcategory</th>\n",
              "      <th>news_category</th>\n",
              "      <th>category</th>\n",
              "    </tr>\n",
              "  </thead>\n",
              "  <tbody>\n",
              "    <tr>\n",
              "      <th>0</th>\n",
              "      <td>843656</td>\n",
              "      <td>وزير علوم درجمع استادان نمونه: سن بازنشستگي اس...</td>\n",
              "      <td>وزير علوم در جمع استادان نمونه كشور گفت: از اس...</td>\n",
              "      <td>آموزشي</td>\n",
              "      <td>آموزشي</td>\n",
              "      <td>0</td>\n",
              "    </tr>\n",
              "    <tr>\n",
              "      <th>1</th>\n",
              "      <td>837144</td>\n",
              "      <td>گردهمايي دانش‌آموختگان موسسه آموزش عالي سوره ب...</td>\n",
              "      <td>به گزارش سرويس صنفي آموزشي خبرگزاري دانشجويان ...</td>\n",
              "      <td>آموزشي</td>\n",
              "      <td>آموزشي</td>\n",
              "      <td>0</td>\n",
              "    </tr>\n",
              "    <tr>\n",
              "      <th>2</th>\n",
              "      <td>436862</td>\n",
              "      <td>نتايج آزمون دوره‌هاي فراگير دانشگاه پيام‌نور ا...</td>\n",
              "      <td>نتايج آزمون دوره‌هاي فراگير مقاطع كارشناسي و ك...</td>\n",
              "      <td>آموزشي</td>\n",
              "      <td>آموزشي</td>\n",
              "      <td>0</td>\n",
              "    </tr>\n",
              "    <tr>\n",
              "      <th>3</th>\n",
              "      <td>227781</td>\n",
              "      <td>همايش يكروزه آسيب شناسي مفهوم روابط عمومي در ب...</td>\n",
              "      <td></td>\n",
              "      <td>اجتماعي-خانواده</td>\n",
              "      <td>اجتماعي</td>\n",
              "      <td>1</td>\n",
              "    </tr>\n",
              "    <tr>\n",
              "      <th>4</th>\n",
              "      <td>174187</td>\n",
              "      <td>وضعيت اقتصادي و ميزان تحصيلات والدين از مهمتري...</td>\n",
              "      <td>محمدتقي علوي يزدي، مجري اين طرح پژوهشي در اين‌...</td>\n",
              "      <td>آموزشي</td>\n",
              "      <td>آموزشي</td>\n",
              "      <td>0</td>\n",
              "    </tr>\n",
              "  </tbody>\n",
              "</table>\n",
              "</div>\n",
              "      <button class=\"colab-df-convert\" onclick=\"convertToInteractive('df-4e07f1dd-a463-41dc-8617-0153d993b62e')\"\n",
              "              title=\"Convert this dataframe to an interactive table.\"\n",
              "              style=\"display:none;\">\n",
              "        \n",
              "  <svg xmlns=\"http://www.w3.org/2000/svg\" height=\"24px\"viewBox=\"0 0 24 24\"\n",
              "       width=\"24px\">\n",
              "    <path d=\"M0 0h24v24H0V0z\" fill=\"none\"/>\n",
              "    <path d=\"M18.56 5.44l.94 2.06.94-2.06 2.06-.94-2.06-.94-.94-2.06-.94 2.06-2.06.94zm-11 1L8.5 8.5l.94-2.06 2.06-.94-2.06-.94L8.5 2.5l-.94 2.06-2.06.94zm10 10l.94 2.06.94-2.06 2.06-.94-2.06-.94-.94-2.06-.94 2.06-2.06.94z\"/><path d=\"M17.41 7.96l-1.37-1.37c-.4-.4-.92-.59-1.43-.59-.52 0-1.04.2-1.43.59L10.3 9.45l-7.72 7.72c-.78.78-.78 2.05 0 2.83L4 21.41c.39.39.9.59 1.41.59.51 0 1.02-.2 1.41-.59l7.78-7.78 2.81-2.81c.8-.78.8-2.07 0-2.86zM5.41 20L4 18.59l7.72-7.72 1.47 1.35L5.41 20z\"/>\n",
              "  </svg>\n",
              "      </button>\n",
              "      \n",
              "  <style>\n",
              "    .colab-df-container {\n",
              "      display:flex;\n",
              "      flex-wrap:wrap;\n",
              "      gap: 12px;\n",
              "    }\n",
              "\n",
              "    .colab-df-convert {\n",
              "      background-color: #E8F0FE;\n",
              "      border: none;\n",
              "      border-radius: 50%;\n",
              "      cursor: pointer;\n",
              "      display: none;\n",
              "      fill: #1967D2;\n",
              "      height: 32px;\n",
              "      padding: 0 0 0 0;\n",
              "      width: 32px;\n",
              "    }\n",
              "\n",
              "    .colab-df-convert:hover {\n",
              "      background-color: #E2EBFA;\n",
              "      box-shadow: 0px 1px 2px rgba(60, 64, 67, 0.3), 0px 1px 3px 1px rgba(60, 64, 67, 0.15);\n",
              "      fill: #174EA6;\n",
              "    }\n",
              "\n",
              "    [theme=dark] .colab-df-convert {\n",
              "      background-color: #3B4455;\n",
              "      fill: #D2E3FC;\n",
              "    }\n",
              "\n",
              "    [theme=dark] .colab-df-convert:hover {\n",
              "      background-color: #434B5C;\n",
              "      box-shadow: 0px 1px 3px 1px rgba(0, 0, 0, 0.15);\n",
              "      filter: drop-shadow(0px 1px 2px rgba(0, 0, 0, 0.3));\n",
              "      fill: #FFFFFF;\n",
              "    }\n",
              "  </style>\n",
              "\n",
              "      <script>\n",
              "        const buttonEl =\n",
              "          document.querySelector('#df-4e07f1dd-a463-41dc-8617-0153d993b62e button.colab-df-convert');\n",
              "        buttonEl.style.display =\n",
              "          google.colab.kernel.accessAllowed ? 'block' : 'none';\n",
              "\n",
              "        async function convertToInteractive(key) {\n",
              "          const element = document.querySelector('#df-4e07f1dd-a463-41dc-8617-0153d993b62e');\n",
              "          const dataTable =\n",
              "            await google.colab.kernel.invokeFunction('convertToInteractive',\n",
              "                                                     [key], {});\n",
              "          if (!dataTable) return;\n",
              "\n",
              "          const docLinkHtml = 'Like what you see? Visit the ' +\n",
              "            '<a target=\"_blank\" href=https://colab.research.google.com/notebooks/data_table.ipynb>data table notebook</a>'\n",
              "            + ' to learn more about interactive tables.';\n",
              "          element.innerHTML = '';\n",
              "          dataTable['output_type'] = 'display_data';\n",
              "          await google.colab.output.renderOutput(dataTable, element);\n",
              "          const docLink = document.createElement('div');\n",
              "          docLink.innerHTML = docLinkHtml;\n",
              "          element.appendChild(docLink);\n",
              "        }\n",
              "      </script>\n",
              "    </div>\n",
              "  </div>\n",
              "  "
            ]
          },
          "metadata": {},
          "execution_count": 9
        }
      ],
      "source": [
        "le = LabelEncoder()\n",
        "le.fit(list(set(category)))\n",
        "df['category'] = le.transform(df['news_category'])\n",
        "df.head()"
      ]
    },
    {
      "cell_type": "code",
      "execution_count": null,
      "metadata": {
        "colab": {
          "base_uri": "https://localhost:8080/"
        },
        "id": "FW57Ul-opunE",
        "outputId": "873ff735-4b30-42fe-c6eb-e246b3585ee8"
      },
      "outputs": [
        {
          "output_type": "stream",
          "name": "stdout",
          "text": [
            "label2id: {'آموزشي': 0, 'اجتماعي': 1, 'اقتصادي': 2, 'بهداشتي': 3, 'تاريخي': 4, 'سياسي': 5, 'علمي': 6, 'فرهنگي': 7, 'فقه و حقوق': 8, 'مذهبي': 9, 'ورزشي': 10}\n",
            "id2label: {0: 'آموزشي', 1: 'اجتماعي', 2: 'اقتصادي', 3: 'بهداشتي', 4: 'تاريخي', 5: 'سياسي', 6: 'علمي', 7: 'فرهنگي', 8: 'فقه و حقوق', 9: 'مذهبي', 10: 'ورزشي'}\n"
          ]
        }
      ],
      "source": [
        "# create a key finder based on label 2 id and id to label\n",
        "\n",
        "label2id = {label: i for i, label in enumerate(le.classes_)}\n",
        "id2label = {v: k for k, v in label2id.items()}\n",
        "\n",
        "print(f'label2id: {label2id}')\n",
        "print(f'id2label: {id2label}')"
      ]
    },
    {
      "cell_type": "code",
      "execution_count": null,
      "metadata": {
        "colab": {
          "base_uri": "https://localhost:8080/"
        },
        "id": "Bf5xufidp0R8",
        "outputId": "5baf3013-bbb9-4b6f-e275-8931d325492c"
      },
      "outputs": [
        {
          "output_type": "stream",
          "name": "stdout",
          "text": [
            "The number corresponding to the آموزشي is:  \t 0\n",
            "The number corresponding to the اجتماعي is:  \t 1\n",
            "The number corresponding to the اقتصادي is:  \t 2\n",
            "The number corresponding to the بهداشتي is:  \t 3\n",
            "The number corresponding to the تاريخي is:  \t 4\n",
            "The number corresponding to the سياسي is:  \t 5\n",
            "The number corresponding to the علمي is:  \t 6\n",
            "The number corresponding to the فرهنگي is:  \t 7\n",
            "The number corresponding to the فقه و حقوق is:  \t 8\n",
            "The number corresponding to the مذهبي is:  \t 9\n",
            "The number corresponding to the ورزشي is:  \t 10\n"
          ]
        }
      ],
      "source": [
        "for cls, ind in label2id.items():\n",
        "    print(f'The number corresponding to the {cls} is:  \\t {ind}')"
      ]
    },
    {
      "cell_type": "code",
      "execution_count": null,
      "metadata": {
        "colab": {
          "base_uri": "https://localhost:8080/"
        },
        "id": "Hlg86Wikp1xN",
        "outputId": "b871c4f1-e652-4aec-8afe-9d3d65ad2d60"
      },
      "outputs": [
        {
          "output_type": "execute_result",
          "data": {
            "text/plain": [
              "آموزشي        1000\n",
              "اجتماعي       1000\n",
              "اقتصادي       1000\n",
              "بهداشتي       1000\n",
              "علمي          1000\n",
              "سياسي         1000\n",
              "فرهنگي        1000\n",
              "فقه و حقوق    1000\n",
              "مذهبي         1000\n",
              "ورزشي         1000\n",
              "تاريخي         999\n",
              "Name: news_category, dtype: int64"
            ]
          },
          "metadata": {},
          "execution_count": 12
        }
      ],
      "source": [
        "df['news_category'].value_counts()"
      ]
    },
    {
      "cell_type": "code",
      "execution_count": null,
      "metadata": {
        "colab": {
          "base_uri": "https://localhost:8080/"
        },
        "id": "G9wseE5Hp3sU",
        "outputId": "af5d37b9-b9de-4ccb-fd91-4fc02fc1abf1"
      },
      "outputs": [
        {
          "output_type": "execute_result",
          "data": {
            "text/plain": [
              "count    10999.000000\n",
              "mean       412.191836\n",
              "std        590.737729\n",
              "min          0.000000\n",
              "25%        140.000000\n",
              "50%        241.000000\n",
              "75%        417.500000\n",
              "max       6332.000000\n",
              "Name: news_text, dtype: float64"
            ]
          },
          "metadata": {},
          "execution_count": 13
        }
      ],
      "source": [
        "df['news_text'].apply(\n",
        "    lambda s: len(s.split())).describe()"
      ]
    },
    {
      "cell_type": "markdown",
      "metadata": {
        "id": "oG7saSGSgDvR"
      },
      "source": [
        "***These statistics show that the max length of the news_test is 6332 words. but we should set a limit for bert model. we consider 512 words for input.***"
      ]
    },
    {
      "cell_type": "code",
      "execution_count": null,
      "metadata": {
        "colab": {
          "base_uri": "https://localhost:8080/"
        },
        "id": "hS9nzC3wp8Ck",
        "outputId": "4725afd7-4931-4be8-d661-84ab49244b91"
      },
      "outputs": [
        {
          "output_type": "stream",
          "name": "stdout",
          "text": [
            "data information\n",
            "<class 'pandas.core.frame.DataFrame'>\n",
            "RangeIndex: 10999 entries, 0 to 10998\n",
            "Data columns (total 6 columns):\n",
            " #   Column            Non-Null Count  Dtype \n",
            "---  ------            --------------  ----- \n",
            " 0   news_id           10999 non-null  object\n",
            " 1   news_title        10999 non-null  object\n",
            " 2   news_text         10999 non-null  object\n",
            " 3   news_subcategory  10999 non-null  object\n",
            " 4   news_category     10999 non-null  object\n",
            " 5   category          10999 non-null  int64 \n",
            "dtypes: int64(1), object(5)\n",
            "memory usage: 515.7+ KB\n",
            "None \n",
            "\n",
            "missing values stats\n",
            "news_id             0\n",
            "news_title          0\n",
            "news_text           0\n",
            "news_subcategory    0\n",
            "news_category       0\n",
            "category            0\n",
            "dtype: int64\n"
          ]
        }
      ],
      "source": [
        "# print data information\n",
        "print('data information')\n",
        "print(df.info(), '\\n')\n",
        "\n",
        "# print missing values information\n",
        "print('missing values stats')\n",
        "print(df.isnull().sum())"
      ]
    },
    {
      "cell_type": "code",
      "execution_count": null,
      "metadata": {
        "id": "8t3YrOFHp-Pt"
      },
      "outputs": [],
      "source": [
        "df = df.drop_duplicates(subset=['news_text'], keep='first')\n",
        "df = df.reset_index(drop=True)"
      ]
    },
    {
      "cell_type": "code",
      "execution_count": null,
      "metadata": {
        "colab": {
          "base_uri": "https://localhost:8080/"
        },
        "id": "DQmcXLTVqAzE",
        "outputId": "cfe8b716-fe81-4f48-fffc-3979c2875276"
      },
      "outputs": [
        {
          "output_type": "execute_result",
          "data": {
            "text/plain": [
              "['و',\n",
              " 'در',\n",
              " 'به',\n",
              " 'از',\n",
              " 'که',\n",
              " 'این',\n",
              " 'را',\n",
              " 'با',\n",
              " 'است',\n",
              " 'برای',\n",
              " 'آن',\n",
              " 'یک',\n",
              " 'خود',\n",
              " 'تا',\n",
              " 'کرد',\n",
              " 'بر',\n",
              " 'هم',\n",
              " 'نیز',\n",
              " 'گفت',\n",
              " 'می\\u200cشود',\n",
              " 'وی',\n",
              " 'شد',\n",
              " 'دارد',\n",
              " 'ما',\n",
              " 'اما',\n",
              " 'یا',\n",
              " 'شده',\n",
              " 'باید',\n",
              " 'هر',\n",
              " 'آنها',\n",
              " 'بود',\n",
              " 'او',\n",
              " 'دیگر',\n",
              " 'دو',\n",
              " 'مورد',\n",
              " 'می\\u200cکند',\n",
              " 'شود',\n",
              " 'کند',\n",
              " 'وجود',\n",
              " 'بین',\n",
              " 'پیش',\n",
              " 'شده',\n",
              " 'پس',\n",
              " 'نظر',\n",
              " 'اگر',\n",
              " 'همه',\n",
              " 'یکی',\n",
              " 'حال',\n",
              " 'هست',\n",
              " 'من',\n",
              " 'کنند',\n",
              " 'نیست',\n",
              " 'باشد',\n",
              " 'چه',\n",
              " 'بی',\n",
              " 'می',\n",
              " 'بخش',\n",
              " 'می\\u200cکنند',\n",
              " 'همین',\n",
              " 'افزود',\n",
              " 'هایی',\n",
              " 'دار',\n",
              " 'راه',\n",
              " 'همچنین',\n",
              " 'روی',\n",
              " 'داد',\n",
              " 'بیشتر',\n",
              " 'بسیار',\n",
              " 'سه',\n",
              " 'داشت',\n",
              " 'چند',\n",
              " 'سو',\n",
              " 'تنها',\n",
              " 'هیچ',\n",
              " 'میان',\n",
              " 'اینکه',\n",
              " 'شدن',\n",
              " 'بعد',\n",
              " 'جدید',\n",
              " 'ولی',\n",
              " 'حتی',\n",
              " 'کردن',\n",
              " 'برخی',\n",
              " 'کرد',\n",
              " 'می\\u200cدهد',\n",
              " 'اول',\n",
              " 'نه',\n",
              " 'کرده',\n",
              " 'نسبت',\n",
              " 'بیش',\n",
              " 'شما',\n",
              " 'چنین',\n",
              " 'طور',\n",
              " 'فرد',\n",
              " 'تمام',\n",
              " 'درباره',\n",
              " 'بار',\n",
              " 'بسیار',\n",
              " 'می\\u200cتواند',\n",
              " 'کرده',\n",
              " 'چون',\n",
              " 'ندارد',\n",
              " 'دوم',\n",
              " 'بزرگ',\n",
              " 'طی',\n",
              " 'حد',\n",
              " 'همان',\n",
              " 'بدون',\n",
              " 'البته',\n",
              " 'آنان',\n",
              " 'می\\u200cگوید',\n",
              " 'دیگری',\n",
              " 'خواهد شد',\n",
              " 'کنیم',\n",
              " 'قابل',\n",
              " 'یعنی',\n",
              " 'رشد',\n",
              " 'می\\u200cتوان',\n",
              " 'وارد',\n",
              " 'کل',\n",
              " 'ویژه',\n",
              " 'قبل',\n",
              " 'براساس',\n",
              " 'نیاز',\n",
              " 'گذار',\n",
              " 'هنوز',\n",
              " 'لازم',\n",
              " 'ساز',\n",
              " 'بوده',\n",
              " 'چرا',\n",
              " 'می\\u200cشوند',\n",
              " 'وقتی',\n",
              " 'گرفت',\n",
              " 'کم',\n",
              " 'جا',\n",
              " 'حالی',\n",
              " 'تغییر',\n",
              " 'پیدا',\n",
              " 'اکنون',\n",
              " 'تحت',\n",
              " 'باعث',\n",
              " 'مدت',\n",
              " 'فقط',\n",
              " 'زیاد',\n",
              " 'تعداد',\n",
              " 'آیا',\n",
              " 'بیان',\n",
              " 'رو',\n",
              " 'شد',\n",
              " 'عدم',\n",
              " 'کرده',\n",
              " 'بودن',\n",
              " 'نوع',\n",
              " 'بلکه',\n",
              " 'جاری',\n",
              " 'دهد',\n",
              " 'برابر',\n",
              " 'مهم',\n",
              " 'بوده',\n",
              " 'اخیر',\n",
              " 'مربوط',\n",
              " 'امر',\n",
              " 'زیر',\n",
              " 'گیر',\n",
              " 'شاید',\n",
              " 'خصوص',\n",
              " 'آقا',\n",
              " 'اثر',\n",
              " 'کننده',\n",
              " 'بود',\n",
              " 'فکر',\n",
              " 'کنار',\n",
              " 'اولین',\n",
              " 'سوم',\n",
              " 'سایر',\n",
              " 'کنید',\n",
              " 'ضمن',\n",
              " 'مانند',\n",
              " 'باز',\n",
              " 'می\\u200cگیرد',\n",
              " 'ممکن',\n",
              " 'حل',\n",
              " 'دارای',\n",
              " 'پی',\n",
              " 'مثل',\n",
              " 'می\\u200cرسد',\n",
              " 'اجرا',\n",
              " 'دور',\n",
              " 'منظور',\n",
              " 'کسی',\n",
              " 'موجب',\n",
              " 'طول',\n",
              " 'امکان',\n",
              " 'آنچه',\n",
              " 'تعیین',\n",
              " 'گفته',\n",
              " 'شو',\n",
              " 'جمع',\n",
              " 'خیلی',\n",
              " 'علاوه',\n",
              " 'گونه',\n",
              " 'تاکنون',\n",
              " 'رسید',\n",
              " 'ساله',\n",
              " 'گرفته',\n",
              " 'شده',\n",
              " 'علت',\n",
              " 'چهار',\n",
              " 'داشته باشد',\n",
              " 'خواهد بود',\n",
              " 'طرف',\n",
              " 'تهیه',\n",
              " 'تبدیل',\n",
              " 'مناسب',\n",
              " 'زیرا',\n",
              " 'مشخص',\n",
              " 'می\\u200cتوانند',\n",
              " 'نزدیک',\n",
              " 'جریان',\n",
              " 'روند',\n",
              " 'بنابراین',\n",
              " 'می\\u200cدهند',\n",
              " 'یافت',\n",
              " 'نخستین',\n",
              " 'بالا',\n",
              " 'پنج',\n",
              " 'ریز',\n",
              " 'عالی',\n",
              " 'چیز',\n",
              " 'نخست',\n",
              " 'بیشتر',\n",
              " 'ترتیب',\n",
              " 'شده بود',\n",
              " 'خاص',\n",
              " 'خوبی',\n",
              " 'خوب',\n",
              " 'شروع',\n",
              " 'فرد',\n",
              " 'کامل',\n",
              " 'غیر',\n",
              " 'می\\u200cرود',\n",
              " 'ده',\n",
              " 'آخرین',\n",
              " 'دادن',\n",
              " 'جدی',\n",
              " 'بهتر',\n",
              " 'شامل',\n",
              " 'گیرد',\n",
              " 'بخشی',\n",
              " 'باشند',\n",
              " 'تمام',\n",
              " 'بهتر',\n",
              " 'داده',\n",
              " 'حد',\n",
              " 'نبود',\n",
              " 'کس',\n",
              " 'می\\u200cکرد',\n",
              " 'داریم',\n",
              " 'علیه',\n",
              " 'می\\u200cباشد',\n",
              " 'دان',\n",
              " 'ناشی',\n",
              " 'داشتند',\n",
              " 'دهه',\n",
              " 'می\\u200cشد',\n",
              " 'ایشان',\n",
              " 'آنجا',\n",
              " 'گرفته',\n",
              " 'دچار',\n",
              " 'می\\u200cآید',\n",
              " 'لحاظ',\n",
              " 'آنکه',\n",
              " 'داده',\n",
              " 'بعضی',\n",
              " 'هستی',\n",
              " 'اند',\n",
              " 'بردار',\n",
              " 'نباید',\n",
              " 'می\\u200cکنیم',\n",
              " 'نشست',\n",
              " 'سهم',\n",
              " 'همیشه',\n",
              " 'آمد',\n",
              " 'اش',\n",
              " 'وگو',\n",
              " 'می\\u200cکنم',\n",
              " 'حداقل',\n",
              " 'طبق',\n",
              " 'جا',\n",
              " 'خواهد کرد',\n",
              " 'نوعی',\n",
              " 'چگونه',\n",
              " 'رفت',\n",
              " 'هنگام',\n",
              " 'فوق',\n",
              " 'روش',\n",
              " 'ندار',\n",
              " 'سعی',\n",
              " 'بندی',\n",
              " 'شمار',\n",
              " 'کلی',\n",
              " 'کافی',\n",
              " 'مواجه',\n",
              " 'همچنان',\n",
              " 'زیاد',\n",
              " 'سمت',\n",
              " 'کوچک',\n",
              " 'داشته',\n",
              " 'چیز',\n",
              " 'پشت',\n",
              " 'آورد',\n",
              " 'حالا',\n",
              " 'روبه',\n",
              " 'سال',\n",
              " 'داد',\n",
              " 'می\\u200cکردند',\n",
              " 'عهده',\n",
              " 'نیمه',\n",
              " 'جایی',\n",
              " 'دیگر',\n",
              " 'سی',\n",
              " 'بروز',\n",
              " 'یکدیگر',\n",
              " 'آمده',\n",
              " 'جز',\n",
              " 'کنم',\n",
              " 'سپس',\n",
              " 'کننده',\n",
              " 'خود',\n",
              " 'همواره',\n",
              " 'یافته',\n",
              " 'شان',\n",
              " 'صرف',\n",
              " 'نمی\\u200cشود',\n",
              " 'رسیدن',\n",
              " 'چهارم',\n",
              " 'یابد',\n",
              " 'متر',\n",
              " 'ساز',\n",
              " 'داشته',\n",
              " 'کرده بود',\n",
              " 'باره',\n",
              " 'نحوه',\n",
              " 'کرد',\n",
              " 'تو',\n",
              " 'شخصی',\n",
              " 'داشته باشند',\n",
              " 'محسوب',\n",
              " 'پخش',\n",
              " 'کمی',\n",
              " 'متفاوت',\n",
              " 'سراسر',\n",
              " 'کاملا',\n",
              " 'داشتن',\n",
              " 'نظیر',\n",
              " 'آمده',\n",
              " 'گروهی',\n",
              " 'فردی',\n",
              " 'ع',\n",
              " 'همچون',\n",
              " 'خطر',\n",
              " 'خویش',\n",
              " 'کدام',\n",
              " 'دسته',\n",
              " 'سبب',\n",
              " 'عین',\n",
              " 'آور',\n",
              " 'متاسفانه',\n",
              " 'بیرون',\n",
              " 'دار',\n",
              " 'ابتدا',\n",
              " 'شش',\n",
              " 'فرد',\n",
              " 'می\\u200cگویند',\n",
              " 'سال',\n",
              " 'درون',\n",
              " 'نیست',\n",
              " 'یافته',\n",
              " 'پر',\n",
              " 'خاطرنشان',\n",
              " 'گاه',\n",
              " 'جمعی',\n",
              " 'اغلب',\n",
              " 'دوباره',\n",
              " 'می\\u200cیابد',\n",
              " 'لذا',\n",
              " 'زاده',\n",
              " 'گردد',\n",
              " 'اینجا']"
            ]
          },
          "metadata": {},
          "execution_count": 16
        }
      ],
      "source": [
        "normalizer = Normalizer()\n",
        "\n",
        "ps = PersianStemmer()\n",
        "\n",
        "file_open = open('/content/gdrive/MyDrive/NLP - HW5/stop.txt','r')\n",
        "file_stopwords = file_open.readlines()\n",
        "file_open.close()\n",
        "\n",
        "file_stopwords = [normalizer.normalize(ps.run(x.replace('\\n','').replace('_',' ').replace('\\u200f','').replace('\\x7f',''))) for x in file_stopwords]\n",
        "file_stopwords"
      ]
    },
    {
      "cell_type": "code",
      "execution_count": null,
      "metadata": {
        "id": "ok49kLT_qKPd"
      },
      "outputs": [],
      "source": [
        "notations = ['!','»','،','؛','؟','\"','#','(',')','*',',','-','.','/',':','[',']','«','…']\n",
        "listt = []\n",
        "for x in df['news_text']:\n",
        "    listt.append(x)\n",
        "    for notation in notations:\n",
        "        listt[-1] = listt[-1].replace(notation,'')\n",
        "    for stop in file_stopwords:\n",
        "        listt[-1] = listt[-1].replace(' '+stop+' ',' ')\n",
        "    listt[-1] = listt[-1].replace('&nbsp;',' ').replace('_',' ')"
      ]
    },
    {
      "cell_type": "code",
      "execution_count": null,
      "metadata": {
        "id": "khnFfzDIqOwF"
      },
      "outputs": [],
      "source": [
        "df['news_text'] = listt"
      ]
    },
    {
      "cell_type": "code",
      "execution_count": null,
      "metadata": {
        "colab": {
          "base_uri": "https://localhost:8080/"
        },
        "id": "MkI0MDJuqR_M",
        "outputId": "41167e78-2fc5-45ac-a9b1-d34716958700"
      },
      "outputs": [
        {
          "output_type": "stream",
          "name": "stderr",
          "text": [
            "/usr/local/lib/python3.7/dist-packages/ipykernel_launcher.py:1: VisibleDeprecationWarning: Creating an ndarray from ragged nested sequences (which is a list-or-tuple of lists-or-tuples-or ndarrays with different lengths or shapes) is deprecated. If you meant to do this, you must specify 'dtype=object' when creating the ndarray.\n",
            "  \"\"\"Entry point for launching an IPython kernel.\n"
          ]
        }
      ],
      "source": [
        "News_Tokenized = np.array([np.array(word_tokenize(x)) for x in df['news_text']])"
      ]
    },
    {
      "cell_type": "code",
      "execution_count": null,
      "metadata": {
        "id": "ubtmEFO6qUKt"
      },
      "outputs": [],
      "source": [
        "listt = []\n",
        "for x in News_Tokenized:\n",
        "    listt.append( ' '.join([ps.run(s).replace(' ','\\u200c') for s in x if s!=' ']))\n",
        "df['news_text'] = listt"
      ]
    },
    {
      "cell_type": "markdown",
      "metadata": {
        "id": "K5RiB6kfqYtK"
      },
      "source": [
        "-----------------------------"
      ]
    },
    {
      "cell_type": "markdown",
      "metadata": {
        "id": "8r6o4RvQqaPy"
      },
      "source": [
        "***Split Train , Test and validation data***"
      ]
    },
    {
      "cell_type": "code",
      "execution_count": null,
      "metadata": {
        "id": "npcGvQlSqX-H"
      },
      "outputs": [],
      "source": [
        "X_train,X_test,y_train,y_test = train_test_split(df['news_text'],df['category'],test_size=0.2,random_state=0,shuffle=True)\n",
        "X_train,X_val,y_train,y_val = train_test_split(X_train,y_train,test_size=0.1,random_state=0,shuffle=True)\n",
        "\n",
        "X_train = X_train.values.tolist()\n",
        "y_train = y_train.values.tolist()\n",
        "\n",
        "X_val = X_val.values.tolist()\n",
        "y_val = y_val.values.tolist()\n",
        "\n",
        "X_test = X_test.values.tolist()\n",
        "y_test = y_test.values.tolist()"
      ]
    },
    {
      "cell_type": "markdown",
      "metadata": {
        "id": "qz2jgU-8rJEB"
      },
      "source": [
        "---------------------------------"
      ]
    },
    {
      "cell_type": "markdown",
      "metadata": {
        "id": "Mca96474rKro"
      },
      "source": [
        "***Bert Model***"
      ]
    },
    {
      "cell_type": "code",
      "execution_count": null,
      "metadata": {
        "colab": {
          "base_uri": "https://localhost:8080/"
        },
        "id": "mrV619R9re7D",
        "outputId": "319f4c19-d010-4bd3-f936-ab9530c690f7"
      },
      "outputs": [
        {
          "output_type": "stream",
          "name": "stdout",
          "text": [
            "device: cuda:0\n",
            "CUDA is available!  Training on GPU ...\n"
          ]
        }
      ],
      "source": [
        "device = torch.device(\"cuda:0\" if torch.cuda.is_available() else \"cpu\")\n",
        "print(f'device: {device}')\n",
        "\n",
        "train_on_gpu = torch.cuda.is_available()\n",
        "\n",
        "if not train_on_gpu:\n",
        "    print('CUDA is not available.  Training on CPU ...')\n",
        "else:\n",
        "    print('CUDA is available!  Training on GPU ...')"
      ]
    },
    {
      "cell_type": "code",
      "execution_count": null,
      "metadata": {
        "id": "9vHmFhKMrD6E"
      },
      "outputs": [],
      "source": [
        "model_name = \"HooshvareLab/bert-fa-base-uncased\"\n",
        "Output_Path = '/content/gdrive/MyDrive/NLP - HW5/pytorch_model1.bin'\n",
        "# max sequence length for each document/sentence sample\n",
        "max_length = 256"
      ]
    },
    {
      "cell_type": "code",
      "execution_count": null,
      "metadata": {
        "id": "HdWWe4mVrV4u",
        "colab": {
          "base_uri": "https://localhost:8080/",
          "height": 81,
          "referenced_widgets": [
            "c13b23f556ff42d5a175bee04c3f81d2",
            "720e822ffb224e159e81fe25e346720e",
            "012c0922234142deb91a66bbdb8f4a08",
            "f2be7133e95743c89c638ec60d9c1123",
            "e1961c063395441b95793feb81c34d1b",
            "e33ef0122992457ca458e1812f62a542",
            "b57c1e95c97a48e4a2d79aae20cae875",
            "3aeaa76dd0644c60a274ebbcff96d995",
            "8492a739ef1346ba94ef8fef88e8d262",
            "adbfa2c361f34f509d4ae99e805c9db4",
            "948d3972a04f409db363d1fc506dd66a",
            "b61d4fd6b2d548ada044438744d11fe1",
            "e9e98dc857e34ad090bd443e0a6ffa2b",
            "e6256d2358f04d96832ecde7aa789d30",
            "be67f201297d4809badcebe3a516a99e",
            "7e9af3f6859c4bcb934b41fc6d928f79",
            "9a9d4149b56840fa95a311af2680f082",
            "ecf01f264aa64873a9abe193038cba88",
            "87861e44cfcc4b5f9e5aa47a5fec65fe",
            "e49f33d34693498c8230d7797900f5bf",
            "2c56d527df93465e8d78729983972f3b",
            "322694da927b455bada108d75037c980"
          ]
        },
        "outputId": "381d5d89-a6cb-4d6e-f430-40128ba963f1"
      },
      "outputs": [
        {
          "output_type": "display_data",
          "data": {
            "text/plain": [
              "Downloading vocab.txt:   0%|          | 0.00/1.14M [00:00<?, ?B/s]"
            ],
            "application/vnd.jupyter.widget-view+json": {
              "version_major": 2,
              "version_minor": 0,
              "model_id": "c13b23f556ff42d5a175bee04c3f81d2"
            }
          },
          "metadata": {}
        },
        {
          "output_type": "display_data",
          "data": {
            "text/plain": [
              "Downloading config.json:   0%|          | 0.00/440 [00:00<?, ?B/s]"
            ],
            "application/vnd.jupyter.widget-view+json": {
              "version_major": 2,
              "version_minor": 0,
              "model_id": "b61d4fd6b2d548ada044438744d11fe1"
            }
          },
          "metadata": {}
        }
      ],
      "source": [
        "# load the tokenizer\n",
        "tokenizer = BertTokenizerFast.from_pretrained(model_name)\n",
        "train_encodings = tokenizer(X_train, truncation=True, padding=True, max_length=max_length)\n",
        "valid_encodings = tokenizer(X_val, truncation=True, padding=True, max_length=max_length)"
      ]
    },
    {
      "cell_type": "code",
      "execution_count": null,
      "metadata": {
        "id": "DSD29PWmrxJ-"
      },
      "outputs": [],
      "source": [
        "class PersicaDataset(torch.utils.data.Dataset):\n",
        "    def __init__(self, encodings, labels):\n",
        "        self.encodings = encodings\n",
        "        self.labels = labels\n",
        "\n",
        "    def __getitem__(self, idx):\n",
        "        item = {k: torch.tensor(v[idx]) for k, v in self.encodings.items()}\n",
        "        item[\"labels\"] = torch.tensor([self.labels[idx]])\n",
        "        return item\n",
        "\n",
        "    def __len__(self):\n",
        "        return len(self.labels)\n"
      ]
    },
    {
      "cell_type": "code",
      "execution_count": null,
      "metadata": {
        "id": "4wfA1eK3r9lE"
      },
      "outputs": [],
      "source": [
        "# convert our tokenized data into a torch Dataset\n",
        "train_dataset = PersicaDataset(train_encodings, y_train)\n",
        "valid_dataset = PersicaDataset(valid_encodings, y_val)"
      ]
    },
    {
      "cell_type": "code",
      "execution_count": null,
      "metadata": {
        "colab": {
          "base_uri": "https://localhost:8080/",
          "height": 156,
          "referenced_widgets": [
            "f776d7f2133f422984a1a25acc2767aa",
            "73c2ef1042214dcabe3c922b8a6e678c",
            "4ca89e82e88941ef9c095e79580ff340",
            "aecdf325c3cf42899d1bd77b98c9d3dd",
            "c9296794771c48f4b0cc012be7b34cbf",
            "29116022cc9a4c1189214565e83d7bd1",
            "a2393fd2ed7840df9101fb78868acc59",
            "cddccff4ec6b495da911ab573a20492a",
            "c54c9d63ccb64f0a9d7d1f79a9bf4075",
            "1b730b080b7946fe8bd9f032479afff0",
            "6c524e814dfc4e6d92f00f5605e9db57"
          ]
        },
        "id": "qzAdU4EnsDls",
        "outputId": "936bd44a-8842-4e55-b21d-c6b6cd36265e"
      },
      "outputs": [
        {
          "output_type": "display_data",
          "data": {
            "text/plain": [
              "Downloading pytorch_model.bin:   0%|          | 0.00/624M [00:00<?, ?B/s]"
            ],
            "application/vnd.jupyter.widget-view+json": {
              "version_major": 2,
              "version_minor": 0,
              "model_id": "f776d7f2133f422984a1a25acc2767aa"
            }
          },
          "metadata": {}
        },
        {
          "output_type": "stream",
          "name": "stderr",
          "text": [
            "Some weights of the model checkpoint at HooshvareLab/bert-fa-base-uncased were not used when initializing BertForSequenceClassification: ['cls.predictions.transform.dense.bias', 'cls.predictions.decoder.weight', 'cls.predictions.transform.dense.weight', 'cls.predictions.transform.LayerNorm.bias', 'cls.predictions.transform.LayerNorm.weight', 'cls.seq_relationship.weight', 'cls.seq_relationship.bias', 'cls.predictions.bias', 'cls.predictions.decoder.bias']\n",
            "- This IS expected if you are initializing BertForSequenceClassification from the checkpoint of a model trained on another task or with another architecture (e.g. initializing a BertForSequenceClassification model from a BertForPreTraining model).\n",
            "- This IS NOT expected if you are initializing BertForSequenceClassification from the checkpoint of a model that you expect to be exactly identical (initializing a BertForSequenceClassification model from a BertForSequenceClassification model).\n",
            "Some weights of BertForSequenceClassification were not initialized from the model checkpoint at HooshvareLab/bert-fa-base-uncased and are newly initialized: ['classifier.bias', 'classifier.weight']\n",
            "You should probably TRAIN this model on a down-stream task to be able to use it for predictions and inference.\n"
          ]
        }
      ],
      "source": [
        "# load the model and pass to CUDA\n",
        "model = BertForSequenceClassification.from_pretrained(model_name, num_labels=len(list(label2id.keys()))).to(\"cuda\")"
      ]
    },
    {
      "cell_type": "code",
      "execution_count": null,
      "metadata": {
        "id": "6QRcC9NCsN_s"
      },
      "outputs": [],
      "source": [
        "from sklearn.metrics import accuracy_score\n",
        "\n",
        "def compute_metrics(pred):\n",
        "  labels = pred.label_ids\n",
        "  preds = pred.predictions.argmax(-1)\n",
        "  # calculate accuracy using sklearn's function\n",
        "  acc = accuracy_score(labels, preds)\n",
        "  return {\n",
        "      'accuracy': acc,\n",
        "  }"
      ]
    },
    {
      "cell_type": "code",
      "execution_count": null,
      "metadata": {
        "id": "9JP2KpApsWq9"
      },
      "outputs": [],
      "source": [
        "training_args = TrainingArguments(\n",
        "    output_dir='/content/gdrive/MyDrive/NLP - HW5/results',          # output directory\n",
        "    num_train_epochs=4,              # total number of training epochs\n",
        "    per_device_train_batch_size=8,  # batch size per device during training\n",
        "    per_device_eval_batch_size=20,   # batch size for evaluation\n",
        "    warmup_steps=1000,                # number of warmup steps for learning rate scheduler\n",
        "    weight_decay=0.1,               # strength of weight decay\n",
        "    logging_dir='/content/gdrive/MyDrive/NLP - HW5/logs',            # directory for storing logs\n",
        "    #load_best_model_at_end=True,     # load the best model when finished training (default metric is loss)\n",
        "    # but you can specify `metric_for_best_model` argument to change to accuracy or other metric\n",
        "    logging_steps=1000,               # log & save weights each logging_steps\n",
        "    save_steps=1000,\n",
        "    evaluation_strategy=\"steps\",     # evaluate each `logging_steps`\n",
        ")"
      ]
    },
    {
      "cell_type": "code",
      "execution_count": null,
      "metadata": {
        "id": "gmlsrDDAsrgl"
      },
      "outputs": [],
      "source": [
        "trainer = Trainer(\n",
        "    model=model,                         # the instantiated Transformers model to be trained\n",
        "    args=training_args,                  # training arguments, defined above\n",
        "    train_dataset=train_dataset,         # training dataset\n",
        "    eval_dataset=valid_dataset,          # evaluation dataset\n",
        "    compute_metrics=compute_metrics,     # the callback that computes metrics of interest\n",
        ")"
      ]
    },
    {
      "cell_type": "code",
      "execution_count": null,
      "metadata": {
        "colab": {
          "base_uri": "https://localhost:8080/",
          "height": 780
        },
        "id": "nxuC3y_Vsvpt",
        "outputId": "3537c652-1fe4-46c0-f65a-33d6ba55bb4a"
      },
      "outputs": [
        {
          "output_type": "stream",
          "name": "stderr",
          "text": [
            "/usr/local/lib/python3.7/dist-packages/transformers/optimization.py:310: FutureWarning: This implementation of AdamW is deprecated and will be removed in a future version. Use the PyTorch implementation torch.optim.AdamW instead, or set `no_deprecation_warning=True` to disable this warning\n",
            "  FutureWarning,\n",
            "***** Running training *****\n",
            "  Num examples = 7857\n",
            "  Num Epochs = 4\n",
            "  Instantaneous batch size per device = 8\n",
            "  Total train batch size (w. parallel, distributed & accumulation) = 8\n",
            "  Gradient Accumulation steps = 1\n",
            "  Total optimization steps = 3932\n"
          ]
        },
        {
          "output_type": "display_data",
          "data": {
            "text/plain": [
              "<IPython.core.display.HTML object>"
            ],
            "text/html": [
              "\n",
              "    <div>\n",
              "      \n",
              "      <progress value='3932' max='3932' style='width:300px; height:20px; vertical-align: middle;'></progress>\n",
              "      [3932/3932 27:44, Epoch 4/4]\n",
              "    </div>\n",
              "    <table border=\"1\" class=\"dataframe\">\n",
              "  <thead>\n",
              " <tr style=\"text-align: left;\">\n",
              "      <th>Step</th>\n",
              "      <th>Training Loss</th>\n",
              "      <th>Validation Loss</th>\n",
              "      <th>Accuracy</th>\n",
              "    </tr>\n",
              "  </thead>\n",
              "  <tbody>\n",
              "    <tr>\n",
              "      <td>1000</td>\n",
              "      <td>0.962700</td>\n",
              "      <td>0.553823</td>\n",
              "      <td>0.871707</td>\n",
              "    </tr>\n",
              "    <tr>\n",
              "      <td>2000</td>\n",
              "      <td>0.422400</td>\n",
              "      <td>0.546820</td>\n",
              "      <td>0.868270</td>\n",
              "    </tr>\n",
              "    <tr>\n",
              "      <td>3000</td>\n",
              "      <td>0.207600</td>\n",
              "      <td>0.595782</td>\n",
              "      <td>0.895762</td>\n",
              "    </tr>\n",
              "  </tbody>\n",
              "</table><p>"
            ]
          },
          "metadata": {}
        },
        {
          "output_type": "stream",
          "name": "stderr",
          "text": [
            "***** Running Evaluation *****\n",
            "  Num examples = 873\n",
            "  Batch size = 20\n",
            "Saving model checkpoint to /content/gdrive/MyDrive/NLP - HW5/results/checkpoint-1000\n",
            "Configuration saved in /content/gdrive/MyDrive/NLP - HW5/results/checkpoint-1000/config.json\n",
            "Model weights saved in /content/gdrive/MyDrive/NLP - HW5/results/checkpoint-1000/pytorch_model.bin\n",
            "***** Running Evaluation *****\n",
            "  Num examples = 873\n",
            "  Batch size = 20\n",
            "Saving model checkpoint to /content/gdrive/MyDrive/NLP - HW5/results/checkpoint-2000\n",
            "Configuration saved in /content/gdrive/MyDrive/NLP - HW5/results/checkpoint-2000/config.json\n",
            "Model weights saved in /content/gdrive/MyDrive/NLP - HW5/results/checkpoint-2000/pytorch_model.bin\n",
            "***** Running Evaluation *****\n",
            "  Num examples = 873\n",
            "  Batch size = 20\n",
            "Saving model checkpoint to /content/gdrive/MyDrive/NLP - HW5/results/checkpoint-3000\n",
            "Configuration saved in /content/gdrive/MyDrive/NLP - HW5/results/checkpoint-3000/config.json\n",
            "Model weights saved in /content/gdrive/MyDrive/NLP - HW5/results/checkpoint-3000/pytorch_model.bin\n",
            "\n",
            "\n",
            "Training completed. Do not forget to share your model on huggingface.co/models =)\n",
            "\n",
            "\n"
          ]
        },
        {
          "output_type": "execute_result",
          "data": {
            "text/plain": [
              "TrainOutput(global_step=3932, training_loss=0.4248211881030249, metrics={'train_runtime': 1667.8608, 'train_samples_per_second': 18.843, 'train_steps_per_second': 2.358, 'total_flos': 4134861224183808.0, 'train_loss': 0.4248211881030249, 'epoch': 4.0})"
            ]
          },
          "metadata": {},
          "execution_count": 31
        }
      ],
      "source": [
        "trainer.train()"
      ]
    },
    {
      "cell_type": "code",
      "execution_count": null,
      "metadata": {
        "colab": {
          "base_uri": "https://localhost:8080/",
          "height": 193
        },
        "id": "Ld36W3UmsxOs",
        "outputId": "76929fc3-8b8c-49b1-c109-d1609d5a2a25"
      },
      "outputs": [
        {
          "output_type": "stream",
          "name": "stderr",
          "text": [
            "***** Running Evaluation *****\n",
            "  Num examples = 873\n",
            "  Batch size = 20\n"
          ]
        },
        {
          "output_type": "display_data",
          "data": {
            "text/plain": [
              "<IPython.core.display.HTML object>"
            ],
            "text/html": [
              "\n",
              "    <div>\n",
              "      \n",
              "      <progress value='44' max='44' style='width:300px; height:20px; vertical-align: middle;'></progress>\n",
              "      [44/44 00:12]\n",
              "    </div>\n",
              "    "
            ]
          },
          "metadata": {}
        },
        {
          "output_type": "execute_result",
          "data": {
            "text/plain": [
              "{'epoch': 4.0,\n",
              " 'eval_accuracy': 0.8991981672394044,\n",
              " 'eval_loss': 0.6299528479576111,\n",
              " 'eval_runtime': 13.1171,\n",
              " 'eval_samples_per_second': 66.554,\n",
              " 'eval_steps_per_second': 3.354}"
            ]
          },
          "metadata": {},
          "execution_count": 32
        }
      ],
      "source": [
        "# evaluate the current model after training\n",
        "trainer.evaluate()"
      ]
    },
    {
      "cell_type": "code",
      "source": [
        "def get_prediction(text):\n",
        "    # prepare our text into tokenized sequence\n",
        "    inputs = tokenizer(text, padding=True, truncation=True, max_length=max_length, return_tensors=\"pt\").to(\"cuda\")\n",
        "    # perform inference to our model\n",
        "    outputs = model(**inputs)\n",
        "    # get output probabilities by doing softmax\n",
        "    probs = outputs[0].softmax(1)\n",
        "    # executing argmax function to get the candidate label\n",
        "    return list(label2id.keys())[probs.argmax()]"
      ],
      "metadata": {
        "id": "_VH3dVWrfaep"
      },
      "execution_count": null,
      "outputs": []
    },
    {
      "cell_type": "code",
      "source": [
        "y_pred = []\n",
        "for x in X_test:\n",
        "  y_pred.append(get_prediction(x))\n",
        "y_pred = [label2id[x] for x in y_pred]"
      ],
      "metadata": {
        "id": "E5isdPKugLsv"
      },
      "execution_count": null,
      "outputs": []
    },
    {
      "cell_type": "code",
      "source": [
        "cm = confusion_matrix(y_true = y_test, y_pred= y_pred)\n",
        "disp = ConfusionMatrixDisplay(confusion_matrix=cm,display_labels=list(label2id.values()))\n",
        "disp.plot()\n",
        "plt.show()"
      ],
      "metadata": {
        "id": "nEzfI6mQldb-",
        "colab": {
          "base_uri": "https://localhost:8080/",
          "height": 282
        },
        "outputId": "a11b524f-152e-41e4-f04b-bd638ef22b1a"
      },
      "execution_count": null,
      "outputs": [
        {
          "output_type": "display_data",
          "data": {
            "text/plain": [
              "<Figure size 432x288 with 2 Axes>"
            ],
            "image/png": "[encoded data removed]"
          },
          "metadata": {
            "needs_background": "light"
          }
        }
      ]
    },
    {
      "cell_type": "code",
      "source": [
        "accuracy_score(y_test, y_pred)"
      ],
      "metadata": {
        "id": "5AUBRgHHfvgC",
        "colab": {
          "base_uri": "https://localhost:8080/"
        },
        "outputId": "be8c77c9-95c4-4c71-b182-d436aa9d3dd6"
      },
      "execution_count": null,
      "outputs": [
        {
          "output_type": "execute_result",
          "data": {
            "text/plain": [
              "0.8992212551534585"
            ]
          },
          "metadata": {},
          "execution_count": 36
        }
      ]
    },
    {
      "cell_type": "code",
      "source": [
        "classes = [str(x) for x in label2id.values()]\n",
        "print(classification_report(y_test, y_pred, target_names=classes))"
      ],
      "metadata": {
        "colab": {
          "base_uri": "https://localhost:8080/"
        },
        "id": "6lUBMWgqqLp4",
        "outputId": "b8732369-9e43-4e87-990c-3ca0e1a2c0d1"
      },
      "execution_count": null,
      "outputs": [
        {
          "output_type": "stream",
          "name": "stdout",
          "text": [
            "              precision    recall  f1-score   support\n",
            "\n",
            "           0       0.88      0.94      0.91       195\n",
            "           1       0.72      0.80      0.76       187\n",
            "           2       0.91      0.84      0.87       206\n",
            "           3       0.97      0.96      0.97       209\n",
            "           4       0.95      0.91      0.93       189\n",
            "           5       0.85      0.80      0.82       203\n",
            "           6       0.94      0.91      0.92       200\n",
            "           7       0.93      0.87      0.90       198\n",
            "           8       0.90      0.94      0.92       195\n",
            "           9       0.91      0.93      0.92       215\n",
            "          10       0.96      0.99      0.98       186\n",
            "\n",
            "    accuracy                           0.90      2183\n",
            "   macro avg       0.90      0.90      0.90      2183\n",
            "weighted avg       0.90      0.90      0.90      2183\n",
            "\n"
          ]
        }
      ]
    },
    {
      "cell_type": "code",
      "source": [
        ""
      ],
      "metadata": {
        "id": "agTTvBlx9xDO"
      },
      "execution_count": null,
      "outputs": []
    }
  ],
  "metadata": {
    "accelerator": "GPU",
    "colab": {
      "collapsed_sections": [],
      "name": "Test4 - Parsbert - 256 - weightdecay 0.1.ipynb",
      "provenance": []
    },
    "gpuClass": "standard",
    "kernelspec": {
      "display_name": "Python 3",
      "name": "python3"
    },
    "language_info": {
      "name": "python"
    },
    "widgets": {
      "application/vnd.jupyter.widget-state+json": {
        "c13b23f556ff42d5a175bee04c3f81d2": {
          "model_module": "@jupyter-widgets/controls",
          "model_name": "HBoxModel",
          "model_module_version": "1.5.0",
          "state": {
            "_dom_classes": [],
            "_model_module": "@jupyter-widgets/controls",
            "_model_module_version": "1.5.0",
            "_model_name": "HBoxModel",
            "_view_count": null,
            "_view_module": "@jupyter-widgets/controls",
            "_view_module_version": "1.5.0",
            "_view_name": "HBoxView",
            "box_style": "",
            "children": [
              "IPY_MODEL_720e822ffb224e159e81fe25e346720e",
              "IPY_MODEL_012c0922234142deb91a66bbdb8f4a08",
              "IPY_MODEL_f2be7133e95743c89c638ec60d9c1123"
            ],
            "layout": "IPY_MODEL_e1961c063395441b95793feb81c34d1b"
          }
        },
        "720e822ffb224e159e81fe25e346720e": {
          "model_module": "@jupyter-widgets/controls",
          "model_name": "HTMLModel",
          "model_module_version": "1.5.0",
          "state": {
            "_dom_classes": [],
            "_model_module": "@jupyter-widgets/controls",
            "_model_module_version": "1.5.0",
            "_model_name": "HTMLModel",
            "_view_count": null,
            "_view_module": "@jupyter-widgets/controls",
            "_view_module_version": "1.5.0",
            "_view_name": "HTMLView",
            "description": "",
            "description_tooltip": null,
            "layout": "IPY_MODEL_e33ef0122992457ca458e1812f62a542",
            "placeholder": "​",
            "style": "IPY_MODEL_b57c1e95c97a48e4a2d79aae20cae875",
            "value": "Downloading vocab.txt: 100%"
          }
        },
        "012c0922234142deb91a66bbdb8f4a08": {
          "model_module": "@jupyter-widgets/controls",
          "model_name": "FloatProgressModel",
          "model_module_version": "1.5.0",
          "state": {
            "_dom_classes": [],
            "_model_module": "@jupyter-widgets/controls",
            "_model_module_version": "1.5.0",
            "_model_name": "FloatProgressModel",
            "_view_count": null,
            "_view_module": "@jupyter-widgets/controls",
            "_view_module_version": "1.5.0",
            "_view_name": "ProgressView",
            "bar_style": "success",
            "description": "",
            "description_tooltip": null,
            "layout": "IPY_MODEL_3aeaa76dd0644c60a274ebbcff96d995",
            "max": 1198122,
            "min": 0,
            "orientation": "horizontal",
            "style": "IPY_MODEL_8492a739ef1346ba94ef8fef88e8d262",
            "value": 1198122
          }
        },
        "f2be7133e95743c89c638ec60d9c1123": {
          "model_module": "@jupyter-widgets/controls",
          "model_name": "HTMLModel",
          "model_module_version": "1.5.0",
          "state": {
            "_dom_classes": [],
            "_model_module": "@jupyter-widgets/controls",
            "_model_module_version": "1.5.0",
            "_model_name": "HTMLModel",
            "_view_count": null,
            "_view_module": "@jupyter-widgets/controls",
            "_view_module_version": "1.5.0",
            "_view_name": "HTMLView",
            "description": "",
            "description_tooltip": null,
            "layout": "IPY_MODEL_adbfa2c361f34f509d4ae99e805c9db4",
            "placeholder": "​",
            "style": "IPY_MODEL_948d3972a04f409db363d1fc506dd66a",
            "value": " 1.14M/1.14M [00:01&lt;00:00, 939kB/s]"
          }
        },
        "e1961c063395441b95793feb81c34d1b": {
          "model_module": "@jupyter-widgets/base",
          "model_name": "LayoutModel",
          "model_module_version": "1.2.0",
          "state": {
            "_model_module": "@jupyter-widgets/base",
            "_model_module_version": "1.2.0",
            "_model_name": "LayoutModel",
            "_view_count": null,
            "_view_module": "@jupyter-widgets/base",
            "_view_module_version": "1.2.0",
            "_view_name": "LayoutView",
            "align_content": null,
            "align_items": null,
            "align_self": null,
            "border": null,
            "bottom": null,
            "display": null,
            "flex": null,
            "flex_flow": null,
            "grid_area": null,
            "grid_auto_columns": null,
            "grid_auto_flow": null,
            "grid_auto_rows": null,
            "grid_column": null,
            "grid_gap": null,
            "grid_row": null,
            "grid_template_areas": null,
            "grid_template_columns": null,
            "grid_template_rows": null,
            "height": null,
            "justify_content": null,
            "justify_items": null,
            "left": null,
            "margin": null,
            "max_height": null,
            "max_width": null,
            "min_height": null,
            "min_width": null,
            "object_fit": null,
            "object_position": null,
            "order": null,
            "overflow": null,
            "overflow_x": null,
            "overflow_y": null,
            "padding": null,
            "right": null,
            "top": null,
            "visibility": null,
            "width": null
          }
        },
        "e33ef0122992457ca458e1812f62a542": {
          "model_module": "@jupyter-widgets/base",
          "model_name": "LayoutModel",
          "model_module_version": "1.2.0",
          "state": {
            "_model_module": "@jupyter-widgets/base",
            "_model_module_version": "1.2.0",
            "_model_name": "LayoutModel",
            "_view_count": null,
            "_view_module": "@jupyter-widgets/base",
            "_view_module_version": "1.2.0",
            "_view_name": "LayoutView",
            "align_content": null,
            "align_items": null,
            "align_self": null,
            "border": null,
            "bottom": null,
            "display": null,
            "flex": null,
            "flex_flow": null,
            "grid_area": null,
            "grid_auto_columns": null,
            "grid_auto_flow": null,
            "grid_auto_rows": null,
            "grid_column": null,
            "grid_gap": null,
            "grid_row": null,
            "grid_template_areas": null,
            "grid_template_columns": null,
            "grid_template_rows": null,
            "height": null,
            "justify_content": null,
            "justify_items": null,
            "left": null,
            "margin": null,
            "max_height": null,
            "max_width": null,
            "min_height": null,
            "min_width": null,
            "object_fit": null,
            "object_position": null,
            "order": null,
            "overflow": null,
            "overflow_x": null,
            "overflow_y": null,
            "padding": null,
            "right": null,
            "top": null,
            "visibility": null,
            "width": null
          }
        },
        "b57c1e95c97a48e4a2d79aae20cae875": {
          "model_module": "@jupyter-widgets/controls",
          "model_name": "DescriptionStyleModel",
          "model_module_version": "1.5.0",
          "state": {
            "_model_module": "@jupyter-widgets/controls",
            "_model_module_version": "1.5.0",
            "_model_name": "DescriptionStyleModel",
            "_view_count": null,
            "_view_module": "@jupyter-widgets/base",
            "_view_module_version": "1.2.0",
            "_view_name": "StyleView",
            "description_width": ""
          }
        },
        "3aeaa76dd0644c60a274ebbcff96d995": {
          "model_module": "@jupyter-widgets/base",
          "model_name": "LayoutModel",
          "model_module_version": "1.2.0",
          "state": {
            "_model_module": "@jupyter-widgets/base",
            "_model_module_version": "1.2.0",
            "_model_name": "LayoutModel",
            "_view_count": null,
            "_view_module": "@jupyter-widgets/base",
            "_view_module_version": "1.2.0",
            "_view_name": "LayoutView",
            "align_content": null,
            "align_items": null,
            "align_self": null,
            "border": null,
            "bottom": null,
            "display": null,
            "flex": null,
            "flex_flow": null,
            "grid_area": null,
            "grid_auto_columns": null,
            "grid_auto_flow": null,
            "grid_auto_rows": null,
            "grid_column": null,
            "grid_gap": null,
            "grid_row": null,
            "grid_template_areas": null,
            "grid_template_columns": null,
            "grid_template_rows": null,
            "height": null,
            "justify_content": null,
            "justify_items": null,
            "left": null,
            "margin": null,
            "max_height": null,
            "max_width": null,
            "min_height": null,
            "min_width": null,
            "object_fit": null,
            "object_position": null,
            "order": null,
            "overflow": null,
            "overflow_x": null,
            "overflow_y": null,
            "padding": null,
            "right": null,
            "top": null,
            "visibility": null,
            "width": null
          }
        },
        "8492a739ef1346ba94ef8fef88e8d262": {
          "model_module": "@jupyter-widgets/controls",
          "model_name": "ProgressStyleModel",
          "model_module_version": "1.5.0",
          "state": {
            "_model_module": "@jupyter-widgets/controls",
            "_model_module_version": "1.5.0",
            "_model_name": "ProgressStyleModel",
            "_view_count": null,
            "_view_module": "@jupyter-widgets/base",
            "_view_module_version": "1.2.0",
            "_view_name": "StyleView",
            "bar_color": null,
            "description_width": ""
          }
        },
        "adbfa2c361f34f509d4ae99e805c9db4": {
          "model_module": "@jupyter-widgets/base",
          "model_name": "LayoutModel",
          "model_module_version": "1.2.0",
          "state": {
            "_model_module": "@jupyter-widgets/base",
            "_model_module_version": "1.2.0",
            "_model_name": "LayoutModel",
            "_view_count": null,
            "_view_module": "@jupyter-widgets/base",
            "_view_module_version": "1.2.0",
            "_view_name": "LayoutView",
            "align_content": null,
            "align_items": null,
            "align_self": null,
            "border": null,
            "bottom": null,
            "display": null,
            "flex": null,
            "flex_flow": null,
            "grid_area": null,
            "grid_auto_columns": null,
            "grid_auto_flow": null,
            "grid_auto_rows": null,
            "grid_column": null,
            "grid_gap": null,
            "grid_row": null,
            "grid_template_areas": null,
            "grid_template_columns": null,
            "grid_template_rows": null,
            "height": null,
            "justify_content": null,
            "justify_items": null,
            "left": null,
            "margin": null,
            "max_height": null,
            "max_width": null,
            "min_height": null,
            "min_width": null,
            "object_fit": null,
            "object_position": null,
            "order": null,
            "overflow": null,
            "overflow_x": null,
            "overflow_y": null,
            "padding": null,
            "right": null,
            "top": null,
            "visibility": null,
            "width": null
          }
        },
        "948d3972a04f409db363d1fc506dd66a": {
          "model_module": "@jupyter-widgets/controls",
          "model_name": "DescriptionStyleModel",
          "model_module_version": "1.5.0",
          "state": {
            "_model_module": "@jupyter-widgets/controls",
            "_model_module_version": "1.5.0",
            "_model_name": "DescriptionStyleModel",
            "_view_count": null,
            "_view_module": "@jupyter-widgets/base",
            "_view_module_version": "1.2.0",
            "_view_name": "StyleView",
            "description_width": ""
          }
        },
        "b61d4fd6b2d548ada044438744d11fe1": {
          "model_module": "@jupyter-widgets/controls",
          "model_name": "HBoxModel",
          "model_module_version": "1.5.0",
          "state": {
            "_dom_classes": [],
            "_model_module": "@jupyter-widgets/controls",
            "_model_module_version": "1.5.0",
            "_model_name": "HBoxModel",
            "_view_count": null,
            "_view_module": "@jupyter-widgets/controls",
            "_view_module_version": "1.5.0",
            "_view_name": "HBoxView",
            "box_style": "",
            "children": [
              "IPY_MODEL_e9e98dc857e34ad090bd443e0a6ffa2b",
              "IPY_MODEL_e6256d2358f04d96832ecde7aa789d30",
              "IPY_MODEL_be67f201297d4809badcebe3a516a99e"
            ],
            "layout": "IPY_MODEL_7e9af3f6859c4bcb934b41fc6d928f79"
          }
        },
        "e9e98dc857e34ad090bd443e0a6ffa2b": {
          "model_module": "@jupyter-widgets/controls",
          "model_name": "HTMLModel",
          "model_module_version": "1.5.0",
          "state": {
            "_dom_classes": [],
            "_model_module": "@jupyter-widgets/controls",
            "_model_module_version": "1.5.0",
            "_model_name": "HTMLModel",
            "_view_count": null,
            "_view_module": "@jupyter-widgets/controls",
            "_view_module_version": "1.5.0",
            "_view_name": "HTMLView",
            "description": "",
            "description_tooltip": null,
            "layout": "IPY_MODEL_9a9d4149b56840fa95a311af2680f082",
            "placeholder": "​",
            "style": "IPY_MODEL_ecf01f264aa64873a9abe193038cba88",
            "value": "Downloading config.json: 100%"
          }
        },
        "e6256d2358f04d96832ecde7aa789d30": {
          "model_module": "@jupyter-widgets/controls",
          "model_name": "FloatProgressModel",
          "model_module_version": "1.5.0",
          "state": {
            "_dom_classes": [],
            "_model_module": "@jupyter-widgets/controls",
            "_model_module_version": "1.5.0",
            "_model_name": "FloatProgressModel",
            "_view_count": null,
            "_view_module": "@jupyter-widgets/controls",
            "_view_module_version": "1.5.0",
            "_view_name": "ProgressView",
            "bar_style": "success",
            "description": "",
            "description_tooltip": null,
            "layout": "IPY_MODEL_87861e44cfcc4b5f9e5aa47a5fec65fe",
            "max": 440,
            "min": 0,
            "orientation": "horizontal",
            "style": "IPY_MODEL_e49f33d34693498c8230d7797900f5bf",
            "value": 440
          }
        },
        "be67f201297d4809badcebe3a516a99e": {
          "model_module": "@jupyter-widgets/controls",
          "model_name": "HTMLModel",
          "model_module_version": "1.5.0",
          "state": {
            "_dom_classes": [],
            "_model_module": "@jupyter-widgets/controls",
            "_model_module_version": "1.5.0",
            "_model_name": "HTMLModel",
            "_view_count": null,
            "_view_module": "@jupyter-widgets/controls",
            "_view_module_version": "1.5.0",
            "_view_name": "HTMLView",
            "description": "",
            "description_tooltip": null,
            "layout": "IPY_MODEL_2c56d527df93465e8d78729983972f3b",
            "placeholder": "​",
            "style": "IPY_MODEL_322694da927b455bada108d75037c980",
            "value": " 440/440 [00:00&lt;00:00, 11.9kB/s]"
          }
        },
        "7e9af3f6859c4bcb934b41fc6d928f79": {
          "model_module": "@jupyter-widgets/base",
          "model_name": "LayoutModel",
          "model_module_version": "1.2.0",
          "state": {
            "_model_module": "@jupyter-widgets/base",
            "_model_module_version": "1.2.0",
            "_model_name": "LayoutModel",
            "_view_count": null,
            "_view_module": "@jupyter-widgets/base",
            "_view_module_version": "1.2.0",
            "_view_name": "LayoutView",
            "align_content": null,
            "align_items": null,
            "align_self": null,
            "border": null,
            "bottom": null,
            "display": null,
            "flex": null,
            "flex_flow": null,
            "grid_area": null,
            "grid_auto_columns": null,
            "grid_auto_flow": null,
            "grid_auto_rows": null,
            "grid_column": null,
            "grid_gap": null,
            "grid_row": null,
            "grid_template_areas": null,
            "grid_template_columns": null,
            "grid_template_rows": null,
            "height": null,
            "justify_content": null,
            "justify_items": null,
            "left": null,
            "margin": null,
            "max_height": null,
            "max_width": null,
            "min_height": null,
            "min_width": null,
            "object_fit": null,
            "object_position": null,
            "order": null,
            "overflow": null,
            "overflow_x": null,
            "overflow_y": null,
            "padding": null,
            "right": null,
            "top": null,
            "visibility": null,
            "width": null
          }
        },
        "9a9d4149b56840fa95a311af2680f082": {
          "model_module": "@jupyter-widgets/base",
          "model_name": "LayoutModel",
          "model_module_version": "1.2.0",
          "state": {
            "_model_module": "@jupyter-widgets/base",
            "_model_module_version": "1.2.0",
            "_model_name": "LayoutModel",
            "_view_count": null,
            "_view_module": "@jupyter-widgets/base",
            "_view_module_version": "1.2.0",
            "_view_name": "LayoutView",
            "align_content": null,
            "align_items": null,
            "align_self": null,
            "border": null,
            "bottom": null,
            "display": null,
            "flex": null,
            "flex_flow": null,
            "grid_area": null,
            "grid_auto_columns": null,
            "grid_auto_flow": null,
            "grid_auto_rows": null,
            "grid_column": null,
            "grid_gap": null,
            "grid_row": null,
            "grid_template_areas": null,
            "grid_template_columns": null,
            "grid_template_rows": null,
            "height": null,
            "justify_content": null,
            "justify_items": null,
            "left": null,
            "margin": null,
            "max_height": null,
            "max_width": null,
            "min_height": null,
            "min_width": null,
            "object_fit": null,
            "object_position": null,
            "order": null,
            "overflow": null,
            "overflow_x": null,
            "overflow_y": null,
            "padding": null,
            "right": null,
            "top": null,
            "visibility": null,
            "width": null
          }
        },
        "ecf01f264aa64873a9abe193038cba88": {
          "model_module": "@jupyter-widgets/controls",
          "model_name": "DescriptionStyleModel",
          "model_module_version": "1.5.0",
          "state": {
            "_model_module": "@jupyter-widgets/controls",
            "_model_module_version": "1.5.0",
            "_model_name": "DescriptionStyleModel",
            "_view_count": null,
            "_view_module": "@jupyter-widgets/base",
            "_view_module_version": "1.2.0",
            "_view_name": "StyleView",
            "description_width": ""
          }
        },
        "87861e44cfcc4b5f9e5aa47a5fec65fe": {
          "model_module": "@jupyter-widgets/base",
          "model_name": "LayoutModel",
          "model_module_version": "1.2.0",
          "state": {
            "_model_module": "@jupyter-widgets/base",
            "_model_module_version": "1.2.0",
            "_model_name": "LayoutModel",
            "_view_count": null,
            "_view_module": "@jupyter-widgets/base",
            "_view_module_version": "1.2.0",
            "_view_name": "LayoutView",
            "align_content": null,
            "align_items": null,
            "align_self": null,
            "border": null,
            "bottom": null,
            "display": null,
            "flex": null,
            "flex_flow": null,
            "grid_area": null,
            "grid_auto_columns": null,
            "grid_auto_flow": null,
            "grid_auto_rows": null,
            "grid_column": null,
            "grid_gap": null,
            "grid_row": null,
            "grid_template_areas": null,
            "grid_template_columns": null,
            "grid_template_rows": null,
            "height": null,
            "justify_content": null,
            "justify_items": null,
            "left": null,
            "margin": null,
            "max_height": null,
            "max_width": null,
            "min_height": null,
            "min_width": null,
            "object_fit": null,
            "object_position": null,
            "order": null,
            "overflow": null,
            "overflow_x": null,
            "overflow_y": null,
            "padding": null,
            "right": null,
            "top": null,
            "visibility": null,
            "width": null
          }
        },
        "e49f33d34693498c8230d7797900f5bf": {
          "model_module": "@jupyter-widgets/controls",
          "model_name": "ProgressStyleModel",
          "model_module_version": "1.5.0",
          "state": {
            "_model_module": "@jupyter-widgets/controls",
            "_model_module_version": "1.5.0",
            "_model_name": "ProgressStyleModel",
            "_view_count": null,
            "_view_module": "@jupyter-widgets/base",
            "_view_module_version": "1.2.0",
            "_view_name": "StyleView",
            "bar_color": null,
            "description_width": ""
          }
        },
        "2c56d527df93465e8d78729983972f3b": {
          "model_module": "@jupyter-widgets/base",
          "model_name": "LayoutModel",
          "model_module_version": "1.2.0",
          "state": {
            "_model_module": "@jupyter-widgets/base",
            "_model_module_version": "1.2.0",
            "_model_name": "LayoutModel",
            "_view_count": null,
            "_view_module": "@jupyter-widgets/base",
            "_view_module_version": "1.2.0",
            "_view_name": "LayoutView",
            "align_content": null,
            "align_items": null,
            "align_self": null,
            "border": null,
            "bottom": null,
            "display": null,
            "flex": null,
            "flex_flow": null,
            "grid_area": null,
            "grid_auto_columns": null,
            "grid_auto_flow": null,
            "grid_auto_rows": null,
            "grid_column": null,
            "grid_gap": null,
            "grid_row": null,
            "grid_template_areas": null,
            "grid_template_columns": null,
            "grid_template_rows": null,
            "height": null,
            "justify_content": null,
            "justify_items": null,
            "left": null,
            "margin": null,
            "max_height": null,
            "max_width": null,
            "min_height": null,
            "min_width": null,
            "object_fit": null,
            "object_position": null,
            "order": null,
            "overflow": null,
            "overflow_x": null,
            "overflow_y": null,
            "padding": null,
            "right": null,
            "top": null,
            "visibility": null,
            "width": null
          }
        },
        "322694da927b455bada108d75037c980": {
          "model_module": "@jupyter-widgets/controls",
          "model_name": "DescriptionStyleModel",
          "model_module_version": "1.5.0",
          "state": {
            "_model_module": "@jupyter-widgets/controls",
            "_model_module_version": "1.5.0",
            "_model_name": "DescriptionStyleModel",
            "_view_count": null,
            "_view_module": "@jupyter-widgets/base",
            "_view_module_version": "1.2.0",
            "_view_name": "StyleView",
            "description_width": ""
          }
        },
        "f776d7f2133f422984a1a25acc2767aa": {
          "model_module": "@jupyter-widgets/controls",
          "model_name": "HBoxModel",
          "model_module_version": "1.5.0",
          "state": {
            "_dom_classes": [],
            "_model_module": "@jupyter-widgets/controls",
            "_model_module_version": "1.5.0",
            "_model_name": "HBoxModel",
            "_view_count": null,
            "_view_module": "@jupyter-widgets/controls",
            "_view_module_version": "1.5.0",
            "_view_name": "HBoxView",
            "box_style": "",
            "children": [
              "IPY_MODEL_73c2ef1042214dcabe3c922b8a6e678c",
              "IPY_MODEL_4ca89e82e88941ef9c095e79580ff340",
              "IPY_MODEL_aecdf325c3cf42899d1bd77b98c9d3dd"
            ],
            "layout": "IPY_MODEL_c9296794771c48f4b0cc012be7b34cbf"
          }
        },
        "73c2ef1042214dcabe3c922b8a6e678c": {
          "model_module": "@jupyter-widgets/controls",
          "model_name": "HTMLModel",
          "model_module_version": "1.5.0",
          "state": {
            "_dom_classes": [],
            "_model_module": "@jupyter-widgets/controls",
            "_model_module_version": "1.5.0",
            "_model_name": "HTMLModel",
            "_view_count": null,
            "_view_module": "@jupyter-widgets/controls",
            "_view_module_version": "1.5.0",
            "_view_name": "HTMLView",
            "description": "",
            "description_tooltip": null,
            "layout": "IPY_MODEL_29116022cc9a4c1189214565e83d7bd1",
            "placeholder": "​",
            "style": "IPY_MODEL_a2393fd2ed7840df9101fb78868acc59",
            "value": "Downloading pytorch_model.bin: 100%"
          }
        },
        "4ca89e82e88941ef9c095e79580ff340": {
          "model_module": "@jupyter-widgets/controls",
          "model_name": "FloatProgressModel",
          "model_module_version": "1.5.0",
          "state": {
            "_dom_classes": [],
            "_model_module": "@jupyter-widgets/controls",
            "_model_module_version": "1.5.0",
            "_model_name": "FloatProgressModel",
            "_view_count": null,
            "_view_module": "@jupyter-widgets/controls",
            "_view_module_version": "1.5.0",
            "_view_name": "ProgressView",
            "bar_style": "success",
            "description": "",
            "description_tooltip": null,
            "layout": "IPY_MODEL_cddccff4ec6b495da911ab573a20492a",
            "max": 654226731,
            "min": 0,
            "orientation": "horizontal",
            "style": "IPY_MODEL_c54c9d63ccb64f0a9d7d1f79a9bf4075",
            "value": 654226731
          }
        },
        "aecdf325c3cf42899d1bd77b98c9d3dd": {
          "model_module": "@jupyter-widgets/controls",
          "model_name": "HTMLModel",
          "model_module_version": "1.5.0",
          "state": {
            "_dom_classes": [],
            "_model_module": "@jupyter-widgets/controls",
            "_model_module_version": "1.5.0",
            "_model_name": "HTMLModel",
            "_view_count": null,
            "_view_module": "@jupyter-widgets/controls",
            "_view_module_version": "1.5.0",
            "_view_name": "HTMLView",
            "description": "",
            "description_tooltip": null,
            "layout": "IPY_MODEL_1b730b080b7946fe8bd9f032479afff0",
            "placeholder": "​",
            "style": "IPY_MODEL_6c524e814dfc4e6d92f00f5605e9db57",
            "value": " 624M/624M [00:12&lt;00:00, 57.2MB/s]"
          }
        },
        "c9296794771c48f4b0cc012be7b34cbf": {
          "model_module": "@jupyter-widgets/base",
          "model_name": "LayoutModel",
          "model_module_version": "1.2.0",
          "state": {
            "_model_module": "@jupyter-widgets/base",
            "_model_module_version": "1.2.0",
            "_model_name": "LayoutModel",
            "_view_count": null,
            "_view_module": "@jupyter-widgets/base",
            "_view_module_version": "1.2.0",
            "_view_name": "LayoutView",
            "align_content": null,
            "align_items": null,
            "align_self": null,
            "border": null,
            "bottom": null,
            "display": null,
            "flex": null,
            "flex_flow": null,
            "grid_area": null,
            "grid_auto_columns": null,
            "grid_auto_flow": null,
            "grid_auto_rows": null,
            "grid_column": null,
            "grid_gap": null,
            "grid_row": null,
            "grid_template_areas": null,
            "grid_template_columns": null,
            "grid_template_rows": null,
            "height": null,
            "justify_content": null,
            "justify_items": null,
            "left": null,
            "margin": null,
            "max_height": null,
            "max_width": null,
            "min_height": null,
            "min_width": null,
            "object_fit": null,
            "object_position": null,
            "order": null,
            "overflow": null,
            "overflow_x": null,
            "overflow_y": null,
            "padding": null,
            "right": null,
            "top": null,
            "visibility": null,
            "width": null
          }
        },
        "29116022cc9a4c1189214565e83d7bd1": {
          "model_module": "@jupyter-widgets/base",
          "model_name": "LayoutModel",
          "model_module_version": "1.2.0",
          "state": {
            "_model_module": "@jupyter-widgets/base",
            "_model_module_version": "1.2.0",
            "_model_name": "LayoutModel",
            "_view_count": null,
            "_view_module": "@jupyter-widgets/base",
            "_view_module_version": "1.2.0",
            "_view_name": "LayoutView",
            "align_content": null,
            "align_items": null,
            "align_self": null,
            "border": null,
            "bottom": null,
            "display": null,
            "flex": null,
            "flex_flow": null,
            "grid_area": null,
            "grid_auto_columns": null,
            "grid_auto_flow": null,
            "grid_auto_rows": null,
            "grid_column": null,
            "grid_gap": null,
            "grid_row": null,
            "grid_template_areas": null,
            "grid_template_columns": null,
            "grid_template_rows": null,
            "height": null,
            "justify_content": null,
            "justify_items": null,
            "left": null,
            "margin": null,
            "max_height": null,
            "max_width": null,
            "min_height": null,
            "min_width": null,
            "object_fit": null,
            "object_position": null,
            "order": null,
            "overflow": null,
            "overflow_x": null,
            "overflow_y": null,
            "padding": null,
            "right": null,
            "top": null,
            "visibility": null,
            "width": null
          }
        },
        "a2393fd2ed7840df9101fb78868acc59": {
          "model_module": "@jupyter-widgets/controls",
          "model_name": "DescriptionStyleModel",
          "model_module_version": "1.5.0",
          "state": {
            "_model_module": "@jupyter-widgets/controls",
            "_model_module_version": "1.5.0",
            "_model_name": "DescriptionStyleModel",
            "_view_count": null,
            "_view_module": "@jupyter-widgets/base",
            "_view_module_version": "1.2.0",
            "_view_name": "StyleView",
            "description_width": ""
          }
        },
        "cddccff4ec6b495da911ab573a20492a": {
          "model_module": "@jupyter-widgets/base",
          "model_name": "LayoutModel",
          "model_module_version": "1.2.0",
          "state": {
            "_model_module": "@jupyter-widgets/base",
            "_model_module_version": "1.2.0",
            "_model_name": "LayoutModel",
            "_view_count": null,
            "_view_module": "@jupyter-widgets/base",
            "_view_module_version": "1.2.0",
            "_view_name": "LayoutView",
            "align_content": null,
            "align_items": null,
            "align_self": null,
            "border": null,
            "bottom": null,
            "display": null,
            "flex": null,
            "flex_flow": null,
            "grid_area": null,
            "grid_auto_columns": null,
            "grid_auto_flow": null,
            "grid_auto_rows": null,
            "grid_column": null,
            "grid_gap": null,
            "grid_row": null,
            "grid_template_areas": null,
            "grid_template_columns": null,
            "grid_template_rows": null,
            "height": null,
            "justify_content": null,
            "justify_items": null,
            "left": null,
            "margin": null,
            "max_height": null,
            "max_width": null,
            "min_height": null,
            "min_width": null,
            "object_fit": null,
            "object_position": null,
            "order": null,
            "overflow": null,
            "overflow_x": null,
            "overflow_y": null,
            "padding": null,
            "right": null,
            "top": null,
            "visibility": null,
            "width": null
          }
        },
        "c54c9d63ccb64f0a9d7d1f79a9bf4075": {
          "model_module": "@jupyter-widgets/controls",
          "model_name": "ProgressStyleModel",
          "model_module_version": "1.5.0",
          "state": {
            "_model_module": "@jupyter-widgets/controls",
            "_model_module_version": "1.5.0",
            "_model_name": "ProgressStyleModel",
            "_view_count": null,
            "_view_module": "@jupyter-widgets/base",
            "_view_module_version": "1.2.0",
            "_view_name": "StyleView",
            "bar_color": null,
            "description_width": ""
          }
        },
        "1b730b080b7946fe8bd9f032479afff0": {
          "model_module": "@jupyter-widgets/base",
          "model_name": "LayoutModel",
          "model_module_version": "1.2.0",
          "state": {
            "_model_module": "@jupyter-widgets/base",
            "_model_module_version": "1.2.0",
            "_model_name": "LayoutModel",
            "_view_count": null,
            "_view_module": "@jupyter-widgets/base",
            "_view_module_version": "1.2.0",
            "_view_name": "LayoutView",
            "align_content": null,
            "align_items": null,
            "align_self": null,
            "border": null,
            "bottom": null,
            "display": null,
            "flex": null,
            "flex_flow": null,
            "grid_area": null,
            "grid_auto_columns": null,
            "grid_auto_flow": null,
            "grid_auto_rows": null,
            "grid_column": null,
            "grid_gap": null,
            "grid_row": null,
            "grid_template_areas": null,
            "grid_template_columns": null,
            "grid_template_rows": null,
            "height": null,
            "justify_content": null,
            "justify_items": null,
            "left": null,
            "margin": null,
            "max_height": null,
            "max_width": null,
            "min_height": null,
            "min_width": null,
            "object_fit": null,
            "object_position": null,
            "order": null,
            "overflow": null,
            "overflow_x": null,
            "overflow_y": null,
            "padding": null,
            "right": null,
            "top": null,
            "visibility": null,
            "width": null
          }
        },
        "6c524e814dfc4e6d92f00f5605e9db57": {
          "model_module": "@jupyter-widgets/controls",
          "model_name": "DescriptionStyleModel",
          "model_module_version": "1.5.0",
          "state": {
            "_model_module": "@jupyter-widgets/controls",
            "_model_module_version": "1.5.0",
            "_model_name": "DescriptionStyleModel",
            "_view_count": null,
            "_view_module": "@jupyter-widgets/base",
            "_view_module_version": "1.2.0",
            "_view_name": "StyleView",
            "description_width": ""
          }
        }
      }
    }
  },
  "nbformat": 4,
  "nbformat_minor": 0
}